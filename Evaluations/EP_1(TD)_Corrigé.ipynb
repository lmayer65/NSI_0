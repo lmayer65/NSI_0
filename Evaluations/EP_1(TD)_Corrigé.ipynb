{
 "cells": [
  {
   "cell_type": "markdown",
   "metadata": {},
   "source": [
    "# Epreuve pratique_1 (Corrigé)\n",
    "\n",
    "## <u>Thème</u> : programmation orientée objet"
   ]
  },
  {
   "cell_type": "markdown",
   "metadata": {},
   "source": [
    "1/ <b>Créer</b> une classe `Vecteur` ayant pour attribut `x`et `y` qui sont ses coordonnées.\n",
    "\n",
    "2/ <b>Créer</b> une méthode `__str__(self)` qui affiche les coordonnées du vecteur sous forme de tuple lorsque l'on utilisera la fonction `print()`.\n"
   ]
  },
  {
   "cell_type": "code",
   "execution_count": null,
   "metadata": {},
   "outputs": [],
   "source": [
    "#########################################################\n",
    "############# ECRIRE LA CLASSE VECTEUR ICI  #############\n",
    "#########################################################\n",
    "\n",
    "              ##### LE CORRIGE EST ICI ####\n",
    "\n",
    "class Vecteur :\n",
    "    # Question 1/\n",
    "    def __init__(self, absc, ordo) :\n",
    "        self.x = absc\n",
    "        self.y = ordo\n",
    "    \n",
    "    # Question 2/\n",
    "    def __str__(self) :\n",
    "        return f\"({self.x},{self.y})\"\n",
    "    \n",
    "    # Question 3/\n",
    "    def addition(self, vec) :\n",
    "        return Vecteur(self.x + vec.x, self.y + vec.y)\n",
    "    \n",
    "    # Question 4/\n",
    "    def multiplication(self, val) :\n",
    "        return Vecteur(val*self.x, val*self.y)\n",
    "    \n",
    "    # Question 5/\n",
    "    def colineaire(self, vec) :\n",
    "        return self.x*vec.y - self.y*vec.x == 0 # Renvoie bien un booléen\n",
    "    \n",
    "    # Question 6/\n",
    "    def scalaire(self, vec) :\n",
    "        return self.x*vec.x + self.y*vec.y\n",
    "\n",
    "\n"
   ]
  },
  {
   "cell_type": "code",
   "execution_count": null,
   "metadata": {},
   "outputs": [],
   "source": [
    "# Jeu de test\n",
    "vec = Vecteur(-2,5)\n",
    "print(vec)  # Attendu : (-2,5)"
   ]
  },
  {
   "cell_type": "markdown",
   "metadata": {},
   "source": [
    "3/ <b>Créer</b> une méthode `addition(self,vec)` qui renvoie un autre vecteur composé de la somme des coordonnées de `self` et de `vec`."
   ]
  },
  {
   "cell_type": "code",
   "execution_count": null,
   "metadata": {},
   "outputs": [],
   "source": [
    "# Jeu de test\n",
    "vec1 = Vecteur(3,6)\n",
    "vec2 = Vecteur(-1,3)\n",
    "print(vec1.addition(vec2)) # Attendu : (2,9)"
   ]
  },
  {
   "cell_type": "markdown",
   "metadata": {},
   "source": [
    "4/ <b>Créer</b> une méthode `multiplication(self,val)` qui multiplie les coordonnées de l'objet `self`par `val`. L'objet doit être renvoyé."
   ]
  },
  {
   "cell_type": "code",
   "execution_count": null,
   "metadata": {},
   "outputs": [],
   "source": [
    "# Jeu de test\n",
    "vec3 = Vecteur(-3,-2)\n",
    "print(vec3.multiplication(2))  # Attendu : (-6,-4)"
   ]
  },
  {
   "cell_type": "markdown",
   "metadata": {},
   "source": [
    "5/ <b>Créer</b> une méthode `colineaire(self,vec)`qui renvoie `True`si les objets `self`et `vec` sont bien colinéaires sinon elle renvoie `False`\n",
    "\n",
    "<u>Exemple</u> : vec1(3,5) et vec2(-2,4). On calcule 3 x 4 - 5 x (-2). On n'obtient pas zéro donc les vecteurs vec1 et vec2 ne sont pas colinéaires.\n",
    "Un lien ici : https://www.parfenoff.org/pdf/seconde/geometrie/2de_Determinants_vect_colineaires.pdf (page 2)"
   ]
  },
  {
   "cell_type": "code",
   "execution_count": null,
   "metadata": {},
   "outputs": [],
   "source": [
    "# Jeu de tests\n",
    "vec4 = Vecteur(3,-1)\n",
    "vec5 = Vecteur(-6,2)\n",
    "print(vec4.colineaire(vec5)) # Attendu : True\n",
    "\n",
    "vec6 = Vecteur(3,1)\n",
    "vec7 = Vecteur(-6,2)\n",
    "print(vec6.colineaire(vec7)) # Attendu : False"
   ]
  },
  {
   "cell_type": "markdown",
   "metadata": {},
   "source": [
    "6/ <b>Créer</b> une méthode `scalaire(self,vec)`qui renvoie le produit scalaire des objets `self`et `vec` \n",
    "\n",
    "<u>Exemple</u> : vec1(3,5) et vec2(-2,4). On calcule 3 x (-2) + 5 x 4 soit 14 qui est le produit scalaire.\n",
    "Lien ici : https://www.youtube.com/watch?v=aOLRbG0IibY"
   ]
  },
  {
   "cell_type": "code",
   "execution_count": null,
   "metadata": {},
   "outputs": [],
   "source": [
    "# Jeu de test\n",
    "vec8 = Vecteur(-3,4)\n",
    "vec9 = Vecteur(-1,5)\n",
    "print(vec8.scalaire(vec9))  # Attendu : 23"
   ]
  }
 ],
 "metadata": {
  "kernelspec": {
   "display_name": "Python 3 (ipykernel)",
   "language": "python",
   "name": "python3"
  },
  "language_info": {
   "codemirror_mode": {
    "name": "ipython",
    "version": 3
   },
   "file_extension": ".py",
   "mimetype": "text/x-python",
   "name": "python",
   "nbconvert_exporter": "python",
   "pygments_lexer": "ipython3",
   "version": "3.9.7"
  }
 },
 "nbformat": 4,
 "nbformat_minor": 4
}
