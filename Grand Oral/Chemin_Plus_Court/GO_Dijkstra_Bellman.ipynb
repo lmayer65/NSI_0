{
 "cells": [
  {
   "cell_type": "code",
   "execution_count": null,
   "id": "ba2a069a",
   "metadata": {},
   "outputs": [],
   "source": [
    "############################# DIJKSTRA ####################################\n",
    "\n",
    "#################### VERSION AVEC LES DISTANCES ###########################\n",
    "\n",
    "# Dictionnaire d'adjacence\n",
    "dict_adja = { \n",
    "            \"E\" : {\"A\" : 3}, \n",
    "            \"A\" : {\"B\" : 6, \"C\" : 1, \"E\" : 3, \"S\" : 13},\n",
    "            \"B\" : {\"A\" : 6, \"C\" : 10, \"S\" : 2},\n",
    "            \"C\" : {\"A\" : 1, \"B\" : 10, \"S\" : 11},\n",
    "            \"S\" : {\"A\" : 13, \"B\" : 2, \"C\" : 11}\n",
    "            }\n",
    "\n",
    "##########################################################################\n",
    "############### ON SUPPOSERA TOUS LES SOMMETS ATTEIGNABLES ###############\n",
    "############### FAIRE UN PARCOURS EN PROFONDEUR SINON ####################\n",
    "##########################################################################\n",
    "\n",
    "\n",
    "def Dijkstra(depart) : \n",
    "    # Sommets déjà visités\n",
    "    sommets_vus = []\n",
    "\n",
    "    # Distances optimisés\n",
    "    distances = {key : float('inf') for key in dict_adja.keys()}\n",
    "    distances[depart] = 0\n",
    "    \n",
    "    # Tant que les sommets ne sont pas tous explorés\n",
    "    while not all(item in sommets_vus for item in dict_adja.keys()) :\n",
    "        # Nouveau sommet de départ, celui avec le poids le plus faible\n",
    "        min_value = float('inf')\n",
    "        for key, value in distances.items() :\n",
    "            if value < min_value and key not in sommets_vus :\n",
    "                depart = key\n",
    "                \n",
    "        sommets_vus.append(depart)  # Nouveau sommet visité\n",
    "        \n",
    "        # Parcours de tous les voisins \n",
    "        for voisin in dict_adja[depart].keys() :           \n",
    "            distances[voisin] = min(distances[voisin], distances[depart] + dict_adja[depart][voisin])\n",
    "            \n",
    "    return distances\n",
    "                 \n",
    "# Jeu de tests                \n",
    "print(Dijkstra(\"E\"))"
   ]
  },
  {
   "cell_type": "markdown",
   "id": "72f6537c",
   "metadata": {},
   "source": [
    "On peut vérifier les résultat à ce lien : https://github.com/lmayer65/NSI_T/blob/main/Structures_Donn%C3%A9es/SDD_Graphes_Dijkstra.pdf"
   ]
  },
  {
   "cell_type": "code",
   "execution_count": 28,
   "id": "2d29a640",
   "metadata": {},
   "outputs": [
    {
     "name": "stdout",
     "output_type": "stream",
     "text": [
      "{'A': 0, 'B': -1, 'C': 2, 'D': -2, 'E': 1}\n"
     ]
    },
    {
     "ename": "AssertionError",
     "evalue": "Cycle absorbant",
     "output_type": "error",
     "traceback": [
      "\u001b[1;31m---------------------------------------------------------------------------\u001b[0m",
      "\u001b[1;31mAssertionError\u001b[0m                            Traceback (most recent call last)",
      "\u001b[1;32m~\\AppData\\Local\\Temp/ipykernel_11956/727314360.py\u001b[0m in \u001b[0;36m<module>\u001b[1;34m\u001b[0m\n\u001b[0;32m     46\u001b[0m     }\n\u001b[0;32m     47\u001b[0m \u001b[1;33m\u001b[0m\u001b[0m\n\u001b[1;32m---> 48\u001b[1;33m \u001b[0mprint\u001b[0m\u001b[1;33m(\u001b[0m\u001b[0mbellman_ford\u001b[0m\u001b[1;33m(\u001b[0m\u001b[0mgraphe_2\u001b[0m\u001b[1;33m,\u001b[0m\u001b[1;34m'A'\u001b[0m\u001b[1;33m)\u001b[0m\u001b[1;33m)\u001b[0m  \u001b[1;31m# Attendu : cycle absorbant\u001b[0m\u001b[1;33m\u001b[0m\u001b[1;33m\u001b[0m\u001b[0m\n\u001b[0m",
      "\u001b[1;32m~\\AppData\\Local\\Temp/ipykernel_11956/727314360.py\u001b[0m in \u001b[0;36mbellman_ford\u001b[1;34m(graphe, source)\u001b[0m\n\u001b[0;32m     22\u001b[0m     \u001b[1;32mfor\u001b[0m \u001b[0mnoeud\u001b[0m \u001b[1;32min\u001b[0m \u001b[0mgraphe\u001b[0m\u001b[1;33m:\u001b[0m\u001b[1;33m\u001b[0m\u001b[1;33m\u001b[0m\u001b[0m\n\u001b[0;32m     23\u001b[0m         \u001b[1;32mfor\u001b[0m \u001b[0mvoisin\u001b[0m \u001b[1;32min\u001b[0m \u001b[0mgraphe\u001b[0m\u001b[1;33m[\u001b[0m\u001b[0mnoeud\u001b[0m\u001b[1;33m]\u001b[0m\u001b[1;33m:\u001b[0m\u001b[1;33m\u001b[0m\u001b[1;33m\u001b[0m\u001b[0m\n\u001b[1;32m---> 24\u001b[1;33m             \u001b[1;32massert\u001b[0m \u001b[0mdistance\u001b[0m\u001b[1;33m[\u001b[0m\u001b[0mvoisin\u001b[0m\u001b[1;33m]\u001b[0m \u001b[1;33m<=\u001b[0m \u001b[0mdistance\u001b[0m\u001b[1;33m[\u001b[0m\u001b[0mnoeud\u001b[0m\u001b[1;33m]\u001b[0m \u001b[1;33m+\u001b[0m \u001b[0mgraphe\u001b[0m\u001b[1;33m[\u001b[0m\u001b[0mnoeud\u001b[0m\u001b[1;33m]\u001b[0m\u001b[1;33m[\u001b[0m\u001b[0mvoisin\u001b[0m\u001b[1;33m]\u001b[0m\u001b[1;33m,\u001b[0m \u001b[1;34mf\"Cycle absorbant\"\u001b[0m\u001b[1;33m\u001b[0m\u001b[1;33m\u001b[0m\u001b[0m\n\u001b[0m\u001b[0;32m     25\u001b[0m \u001b[1;33m\u001b[0m\u001b[0m\n\u001b[0;32m     26\u001b[0m     \u001b[1;32mreturn\u001b[0m \u001b[0mdistance\u001b[0m\u001b[1;33m\u001b[0m\u001b[1;33m\u001b[0m\u001b[0m\n",
      "\u001b[1;31mAssertionError\u001b[0m: Cycle absorbant"
     ]
    }
   ],
   "source": [
    "########################### BELLMAN_FORD #################################\n",
    "\n",
    "#################### VERSION AVEC LES DISTANCES ###########################\n",
    "\n",
    "def bellman_ford(graphe, source):\n",
    "    # Initialisation\n",
    "    distance, predecesseur = {}, {}\n",
    "    for noeud in graphe:\n",
    "        distance[noeud], predecesseur[noeud] = float('inf'), None\n",
    "    distance[source] = 0\n",
    "\n",
    "    # Relâchement des arcs\n",
    "    for i in range(len(graphe) - 1): # Jusqu'au nombre de saut maximal pour un chemin\n",
    "        for noeud in graphe:  # Pour chaque noeud\n",
    "            for voisin in graphe[noeud]: # Pour chaque voisin de chaque noeud\n",
    "                # Si la distance entre le noeud-voisin-source est inférieure à voisin-source\n",
    "                # stockage et nouveau prédecesseur.\n",
    "                if distance[voisin] > distance[noeud] + graphe[noeud][voisin]:\n",
    "                    distance[voisin], predecesseur[voisin] = distance[noeud] + graphe[noeud][voisin], noeud\n",
    "\n",
    "    # Vérification de présence de cycle absorbant\n",
    "    for noeud in graphe:\n",
    "        for voisin in graphe[noeud]:\n",
    "            assert distance[voisin] <= distance[noeud] + graphe[noeud][voisin], f\"Cycle absorbant\"\n",
    " \n",
    "    return distance\n",
    "\n",
    "\n",
    "\n",
    "# Jeu de test\n",
    "graphe_1 = {\n",
    "        'A': {'B': -1, 'C':  4},\n",
    "        'B': {'C':  3, 'D':  2, 'E':  2},\n",
    "        'C': {},\n",
    "        'D': {'B':  1, 'C':  5},\n",
    "        'E': {'D': -3}\n",
    "    }\n",
    "\n",
    "print(bellman_ford(graphe_1,'A'))\n",
    "\n",
    "graphe_2 = {\n",
    "        'A': {'C': 3},\n",
    "        'B': {'A': 2},\n",
    "        'C': {'B': -7, 'D': 1},\n",
    "        'D': {'A': 6},\n",
    "    }\n",
    " \n",
    "print(bellman_ford(graphe_2,'A'))  # Attendu : cycle absorbant\n"
   ]
  },
  {
   "cell_type": "code",
   "execution_count": null,
   "id": "aa5bc72d",
   "metadata": {},
   "outputs": [],
   "source": []
  }
 ],
 "metadata": {
  "kernelspec": {
   "display_name": "Python 3 (ipykernel)",
   "language": "python",
   "name": "python3"
  },
  "language_info": {
   "codemirror_mode": {
    "name": "ipython",
    "version": 3
   },
   "file_extension": ".py",
   "mimetype": "text/x-python",
   "name": "python",
   "nbconvert_exporter": "python",
   "pygments_lexer": "ipython3",
   "version": "3.9.7"
  }
 },
 "nbformat": 4,
 "nbformat_minor": 5
}
