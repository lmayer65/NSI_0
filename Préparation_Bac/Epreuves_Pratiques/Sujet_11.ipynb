{
 "cells": [
  {
   "cell_type": "markdown",
   "id": "6bd30517",
   "metadata": {},
   "source": [
    "## Corrigé type du sujet 10 (Epreuve pratique)\n",
    "<u>Auteur</u> : M.Mayer, lycée Saint-Jean, Limoges\n",
    "\n",
    "Le sujet est ici : https://github.com/lmayer65/NSI_T/blob/main/Pr%C3%A9paration_Bac/Epreuves_Pratiques/21_NSI_11.pdf"
   ]
  },
  {
   "cell_type": "markdown",
   "id": "f4f74594",
   "metadata": {},
   "source": [
    "### <u>Exercice 1</u> : Calcul d'une  moyenne\n",
    "Deux algorithmes de base vu en Première, lien : https://github.com/lmayer65/NSI_T/blob/main/Programme_NSI_1/Algorithmes/AGR.Bases.pdf (page 1)"
   ]
  },
  {
   "cell_type": "code",
   "execution_count": null,
   "id": "85beda6a",
   "metadata": {},
   "outputs": [],
   "source": [
    "def moyenne(tableau) :\n",
    "    # Cas d'un tableau vide\n",
    "    # question possible !\n",
    "    assert len(tableau)!=0, \"Le tableau est vide\"\n",
    "    \n",
    "    # Aucune difficulté ici.\n",
    "    somme = 0\n",
    "    nb_notes = len(tableau)\n",
    "    \n",
    "    for i in range(nb_notes) :\n",
    "        somme += tableau[i]\n",
    "    \n",
    "    return somme/nb_notes\n",
    "\n",
    "\n",
    "# Jeu de tests\n",
    "print(moyenne([1.0]))         # Attendu : 1.0\n",
    "print(moyenne([1.0,2.0,4.0])) # Attendu : 2.3333...\n",
    "print(moyenne([]))\n",
    "    "
   ]
  },
  {
   "cell_type": "markdown",
   "id": "32ce8327",
   "metadata": {},
   "source": [
    "### <u>Exercice 2</u> : Conversion en binaire.\n",
    "Conversion en binaire, rappel de Première, lien ici : https://github.com/lmayer65/NSI_T/blob/main/Programme_NSI_1/Repr%C3%A9sentation_Num%C3%A9rique_Donn%C3%A9es/Types.Base/RND.Nombres%20entiers.pdf (page 1 et 2)\n",
    "\n",
    "<u>Remarque</u> : Attention à l'addition (instruction après le `while`), 'a' + 'b' != 'b' + 'a'."
   ]
  },
  {
   "cell_type": "code",
   "execution_count": null,
   "id": "e8647a82",
   "metadata": {},
   "outputs": [],
   "source": [
    "def dec_to_bin(a) :\n",
    "    # str() permet de convertir en chaîne de caractères\n",
    "    # Si a est pair : bin_a vaut 0 sinon il vaut 1 (a%2)\n",
    "    bin_a = str(a%2)\n",
    "    a = a//2\n",
    "    \n",
    "    while a > 0 :\n",
    "        # Le sens de l'addition a son importance ! Pas de commutativité avec \n",
    "        # les chaînes de caractères.\n",
    "        bin_a = str(a%2) + bin_a\n",
    "        a = a//2\n",
    "        \n",
    "    return bin_a\n",
    "\n",
    "\n",
    "# Jeu de tests\n",
    "print(dec_to_bin(83))   # Attendu : 1010011\n",
    "print(dec_to_bin(127))  # Attendu : 1111111"
   ]
  }
 ],
 "metadata": {
  "kernelspec": {
   "display_name": "Python 3 (ipykernel)",
   "language": "python",
   "name": "python3"
  },
  "language_info": {
   "codemirror_mode": {
    "name": "ipython",
    "version": 3
   },
   "file_extension": ".py",
   "mimetype": "text/x-python",
   "name": "python",
   "nbconvert_exporter": "python",
   "pygments_lexer": "ipython3",
   "version": "3.9.7"
  }
 },
 "nbformat": 4,
 "nbformat_minor": 5
}
