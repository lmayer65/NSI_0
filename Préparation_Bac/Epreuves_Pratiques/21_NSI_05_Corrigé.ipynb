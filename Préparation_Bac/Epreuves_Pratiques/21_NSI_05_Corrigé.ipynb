{
 "cells": [
  {
   "cell_type": "markdown",
   "metadata": {},
   "source": [
    "## Corrigé type du sujet 5 (Epreuve pratique)\n",
    "<u>Auteur</u> : M.Mayer, lycée Saint-Jean, Limoges\n",
    "\n",
    "Le sujet est ici : https://github.com/lmayer65/NSI_T/blob/main/Pr%C3%A9paration_Bac/Epreuves_Pratiques/21_NSI_05.pdf"
   ]
  },
  {
   "cell_type": "markdown",
   "metadata": {},
   "source": [
    "### <u>Exercice 1</u> : rendu de monnaie.\n",
    "Ce sujet a été traité en Première, voici le lien : https://github.com/lmayer65/NSI_T/blob/main/Programme_NSI_1/Algorithmes/AGR.Algorithme.Glouton.pdf (dernière page).\n",
    "\n",
    "<u>Remarques</u> :\n",
    "- Dans ce système -dit \"canonique\"-, l'algorithme glouton se révèle <u>globalement</u> optimal, ce qui n'est pas obligatoirement le cas.\n",
    "- On ne peut rendre au maximum qu'une pièce d'un euro et deux pièces de deux euros.\n"
   ]
  },
  {
   "cell_type": "code",
   "execution_count": 2,
   "metadata": {},
   "outputs": [
    {
     "name": "stdout",
     "output_type": "stream",
     "text": [
      "[2, 1, 1]\n",
      "[12, 2, 0]\n",
      "[17, 2, 0]\n"
     ]
    }
   ],
   "source": [
    "# Renvoi le nombre ``n1` de billets de 5 euros , le nombre `n2` de pièces de 2 euros \n",
    "# et le nombre `n3` de pièces de 1 euros\n",
    "\n",
    "def rendu(somme_a_rendre) :\n",
    "    # Division euclidienne par 5, renvoie le quotient directement\n",
    "    n1 = somme_a_rendre // 5  \n",
    "    # Somme restante à rendre\n",
    "    somme_a_rendre -= 5*n1\n",
    "    \n",
    "    # Division euclidienne par 2 du reste à rendre, renvoie le quotient directement\n",
    "    n2 = somme_a_rendre // 2\n",
    "    somme_a_rendre -= 2*n2  # Il ne reste que soit `0` soit `1` soit `n3`\n",
    "    n3 = somme_a_rendre\n",
    "    \n",
    "    return [n1,n2,n3]\n",
    "\n",
    "# Jeu de tests\n",
    "print(rendu(13)) # Attendu : [2,1,1]\n",
    "print(rendu(64)) # Attendu : [12,2,0]\n",
    "print(rendu(89)) # Attendu : [17,2,0] (Erreur de sujet)"
   ]
  },
  {
   "cell_type": "markdown",
   "metadata": {},
   "source": [
    "### <u>Exercice 2</u> : Génération d'une file à partir d'une liste chaînée."
   ]
  },
  {
   "cell_type": "code",
   "execution_count": 18,
   "metadata": {},
   "outputs": [
    {
     "name": "stdout",
     "output_type": "stream",
     "text": [
      "True\n",
      "2 \n",
      "\n",
      "False\n",
      "7 5 2 \n",
      "\n",
      "2\n",
      "5\n",
      "7 \n",
      "\n"
     ]
    }
   ],
   "source": [
    "class Maillon :\n",
    "    def __init__(self,v,s) :\n",
    "        self.valeur = v\n",
    "        self.suivant = s\n",
    "        \n",
    "        \n",
    "class File :\n",
    "    def __init__(self) :\n",
    "        self.dernier_file = None\n",
    "            \n",
    "    def enfile(self,element) :\n",
    "        # Nouvel élément qui pointe sur l'ancien dernier élément.\n",
    "        nouveau_maillon = Maillon(element , self.dernier_file)\n",
    "        # Ce nouvel élément est bien le dernier de la File.\n",
    "        self.dernier_file = nouveau_maillon\n",
    "            \n",
    "    def est_vide(self) :\n",
    "        return self.dernier_file == None\n",
    "    \n",
    "    def affiche(self) :\n",
    "        maillon = self.dernier_file\n",
    "        \n",
    "        # Parcours de la File et affichage de chaque valeur à la suite.\n",
    "        while maillon != None :\n",
    "            print(maillon.valeur,end = \" \")\n",
    "            maillon = maillon.suivant\n",
    "            \n",
    "        print(\"\\n\") # Saut de ligne (lisibilité).\n",
    "            \n",
    "            \n",
    "    def defile(self) :\n",
    "        if not self.est_vide() : \n",
    "            # Cas où il y a un seul élement, on renvoie sa valeur.\n",
    "            if self.dernier_file.suivant == None :\n",
    "                resultat = self.dernier_file.valeur\n",
    "                self.dernier_file = None # Il n'y a plus d'éléments.\n",
    "                return resultat\n",
    "            \n",
    "            # On boucle sur la File en partant du dernier élément.\n",
    "            maillon = self.dernier_file\n",
    "            # Tant que l'on n'est pas arrivé à l'AVANT-DERNIER élément.\n",
    "            while maillon.suivant.suivant != None :\n",
    "                maillon = maillon.suivant\n",
    "            \n",
    "            # On renvoie la valeur du DERNIER élément (d'où l'instruction `maillon.SUIVANT.valeur`)\n",
    "            # puisque l'on est sur l'avant-dernier élément.\n",
    "            resultat = maillon.suivant.valeur\n",
    "            maillon.suivant = None # Suppression du dernier élément. \n",
    "            return resultat\n",
    "        # Si la File est vide, rien à enlever.\n",
    "        return None\n",
    "\n",
    "    \n",
    "# Jeu de tests    \n",
    "F = File()\n",
    "print(F.est_vide()) # Attendu : True\n",
    "F.enfile(2)\n",
    "F.affiche()         # Attendu : 2\n",
    "print(F.est_vide()) # Attendu : False\n",
    "F.enfile(5)\n",
    "F.enfile(7)\n",
    "F.affiche()         # Attendu : 7 5 2\n",
    "print(F.defile())   # Attendu : 2\n",
    "print(F.defile())   # Attendu : 5\n",
    "F.affiche()         # Attendu : 7\n"
   ]
  },
  {
   "cell_type": "code",
   "execution_count": null,
   "metadata": {},
   "outputs": [],
   "source": []
  }
 ],
 "metadata": {
  "kernelspec": {
   "display_name": "Python 3",
   "language": "python",
   "name": "python3"
  },
  "language_info": {
   "codemirror_mode": {
    "name": "ipython",
    "version": 3
   },
   "file_extension": ".py",
   "mimetype": "text/x-python",
   "name": "python",
   "nbconvert_exporter": "python",
   "pygments_lexer": "ipython3",
   "version": "3.8.5"
  }
 },
 "nbformat": 4,
 "nbformat_minor": 4
}
