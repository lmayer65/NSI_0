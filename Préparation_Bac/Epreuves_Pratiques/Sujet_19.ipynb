{
 "cells": [
  {
   "cell_type": "markdown",
   "id": "6bd30517",
   "metadata": {},
   "source": [
    "## Corrigé type du sujet 19 (Epreuve pratique)\n",
    "<u>Auteur</u> : M.Mayer, lycée Saint-Jean, Limoges\n",
    "\n",
    "Le sujet est ici : https://github.com/lmayer65/NSI_T/blob/main/Pr%C3%A9paration_Bac/Epreuves_Pratiques/22-NSI_17.pdf"
   ]
  },
  {
   "cell_type": "markdown",
   "id": "f4f74594",
   "metadata": {},
   "source": [
    "### <u>Exercice 1</u> : Comptage du nombre de mot dans une phrase\n",
    "<u>Remarque</u> : si la phrase se termine par un point, il y a un mot de plus que d'espace. Si elle se termine par un point d'exclamation ou interrogation, il y a autant d'espaces que de mots."
   ]
  },
  {
   "cell_type": "code",
   "execution_count": null,
   "id": "a954532f",
   "metadata": {},
   "outputs": [],
   "source": [
    "def nombre_de_mots(texte):\n",
    "    nombre_espace = 0\n",
    "    \n",
    "    # On compte le nombre d'espaces\n",
    "    for char in texte :\n",
    "        if char == ' ' :\n",
    "            nombre_espace += 1\n",
    "            \n",
    "    # On regarde le dernier caractère\n",
    "    if texte[len(texte) - 1] == '!' or texte[len(texte) - 1] == '?' :\n",
    "        return nombre_espace\n",
    "    elif texte[len(texte) - 1] == '.' :\n",
    "        return nombre_espace + 1\n",
    "    else :\n",
    "        print(\"La phrase n'est pas correctement terminée\")\n",
    "    \n",
    "    \n",
    "# Jeu de tests\n",
    "print(nombre_de_mots('Le point d exclamation est separe !'))     # Attendu : 6\n",
    "print(nombre_de_mots('Il y a un seul espace entre les mots !'))  # Attendu : 9"
   ]
  },
  {
   "cell_type": "markdown",
   "id": "69e0debc",
   "metadata": {},
   "source": [
    "### <u>Exercice 2</u> : Structure d'ABR\n",
    "<u>Remarque</u> : lien vers le cours sur les ABR ici : https://github.com/lmayer65/NSI_T/blob/main/Structures_Donn%C3%A9es/SDD_Arbres_Programmation.pdf (page 5)"
   ]
  },
  {
   "cell_type": "code",
   "execution_count": null,
   "id": "e8647a82",
   "metadata": {},
   "outputs": [],
   "source": [
    "class Noeud:\n",
    "    ''' Classe implémentant un noeud d'arbre binaire\n",
    "    disposant de 3 attributs :\n",
    "    - valeur : la valeur de l'étiquette,\n",
    "    - gauche : le sous-arbre gauche.\n",
    "    - droit : le sous-arbre droit. '''\n",
    "    def __init__(self, v, g, d):\n",
    "        self.valeur = v\n",
    "        self.gauche = g\n",
    "        self.droite = d\n",
    "\n",
    "class ABR:\n",
    "    ''' Classe implémentant une structure\n",
    "    d'arbre binaire de recherche. '''\n",
    "    def __init__(self):\n",
    "        '''Crée un arbre binaire de recherche vide'''\n",
    "        self.racine = None\n",
    "\n",
    "    def est_vide(self):\n",
    "        '''Renvoie True si l'ABR est vide et False sinon.'''\n",
    "        return self.racine is None\n",
    "\n",
    "    def parcours(self, tab = []):\n",
    "        ''' Renvoie la liste tab complétée avec tous les\n",
    "        éléments de l'ABR triés par ordre croissant. '''\n",
    "\n",
    "        if self.est_vide():\n",
    "            return tab\n",
    "        else:\n",
    "            # Parcours infixe\n",
    "            self.racine.gauche.parcours(tab)\n",
    "            tab.append(self.racine.valeur)\n",
    "            self.racine.droite.parcours(tab)\n",
    "            return tab\n",
    "\n",
    "    def insere(self, element):\n",
    "        '''Insère un élément dans l'arbre binaire de recherche.'''\n",
    "        if self.est_vide():\n",
    "            self.racine = Noeud(element, ABR(), ABR())\n",
    "        else:\n",
    "            if element < self.racine.valeur:\n",
    "                self.racine.gauche.insere(element)\n",
    "            else :\n",
    "                self.racine.droite.insere(element)\n",
    "\n",
    "    def recherche(self, element):\n",
    "        '''\n",
    "        Renvoie True si element est présent dans l'arbre\n",
    "        binaire et False sinon.\n",
    "        '''\n",
    "        if self.est_vide():\n",
    "            return False\n",
    "        else:\n",
    "            # On cherche dans le sous-arbre gauche\n",
    "            if element < self.racine.valeur:\n",
    "                return self.racine.gauche.recherche(element)\n",
    "            # Sinon dans le droit\n",
    "            elif element > self.racine.valeur:\n",
    "                return self.racine.droite.recherche(element)\n",
    "            # Valeur trouvée ici\n",
    "            else:\n",
    "                return True\n",
    " \n",
    "\n",
    "\n",
    "    ###### Jeu de tests #######\n",
    "\n",
    "a = ABR()\n",
    "a.insere(7)\n",
    "a.insere(3)\n",
    "a.insere(9)\n",
    "a.insere(1)\n",
    "a.insere(9)\n",
    "a.parcours()\n",
    "\n",
    "print(a.recherche(4))       # Attendu : False\n",
    "print(a.recherche(3))       # Attendu : True"
   ]
  }
 ],
 "metadata": {
  "kernelspec": {
   "display_name": "Python 3 (ipykernel)",
   "language": "python",
   "name": "python3"
  },
  "language_info": {
   "codemirror_mode": {
    "name": "ipython",
    "version": 3
   },
   "file_extension": ".py",
   "mimetype": "text/x-python",
   "name": "python",
   "nbconvert_exporter": "python",
   "pygments_lexer": "ipython3",
   "version": "3.9.7"
  }
 },
 "nbformat": 4,
 "nbformat_minor": 5
}
