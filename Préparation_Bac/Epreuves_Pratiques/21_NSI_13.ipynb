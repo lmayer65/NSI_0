{
 "cells": [
  {
   "cell_type": "markdown",
   "id": "6bd30517",
   "metadata": {},
   "source": [
    "## Corrigé type du sujet 13 (Epreuve pratique)\n",
    "<u>Auteur</u> : M.Mayer, lycée Saint-Jean, Limoges\n",
    "\n",
    "Le sujet est ici : https://github.com/lmayer65/NSI_T/blob/main/Pr%C3%A9paration_Bac/Epreuves_Pratiques/21_NSI_13.pdf"
   ]
  },
  {
   "cell_type": "markdown",
   "id": "f4f74594",
   "metadata": {},
   "source": [
    "### <u>Exercice 1</u> : Minimum de température\n",
    "Rien de compliqué ici :)\n",
    "\n",
    "<u>Remarque</u> : il est plus pratique ici d'itérer sur des <u>indices</u> (avec le range()) "
   ]
  },
  {
   "cell_type": "code",
   "execution_count": null,
   "id": "a954532f",
   "metadata": {},
   "outputs": [],
   "source": [
    "t_moy = [14.9, 13.3, 13.1, 12.5, 13.0, 13.6, 13.7]\n",
    "annees = [2013, 2014, 2015, 2016, 2017, 2018, 2019]\n",
    "\n",
    "def mini(t_moy, annees):\n",
    "    # Première valeur par défaut pour le minimum local.\n",
    "    t_moy_mini = t_moy[0]\n",
    "    ind_mini = 0\n",
    "    \n",
    "    # Le compteur `i`représente l'indice des tableaux `t_moy` et `annees`.\n",
    "    for i in range(1,len(t_moy)) :\n",
    "        # Si on trouve un minimum local.\n",
    "        if t_moy[i] < t_moy_mini :\n",
    "            t_moy_mini = t_moy[i]\n",
    "            # L'indice suffit pour trouver la températue minimale et l'année correspondante.\n",
    "            ind_mini = i \n",
    "            \n",
    "    return t_moy[ind_mini], annees[ind_mini]\n",
    "\n",
    "\n",
    "# Jeu de tests\n",
    "print(mini(t_moy, annees))   # Attendu : 12.5, 2016"
   ]
  },
  {
   "cell_type": "markdown",
   "id": "32ce8327",
   "metadata": {},
   "source": [
    "### <u>Exercice 2</u> : Palindrome.\n",
    "<u>Remarque</u> : Bien convertir les nombres en chaine de caractères avec la fonction `str()` (à connaître)."
   ]
  },
  {
   "cell_type": "code",
   "execution_count": null,
   "id": "e8647a82",
   "metadata": {},
   "outputs": [],
   "source": [
    "def inverse_chaine(chaine):\n",
    "    result = ''\n",
    "    for caractere in chaine:\n",
    "        # Attention à bien convertir en chaine de caractères (str())!\n",
    "        # On additionne le nouveau caractère AVANT la chaîne, d'où l'inversion automatique.\n",
    "        result = str(caractere) + result\n",
    "    return result\n",
    "\n",
    "def est_palindrome(chaine):\n",
    "    inverse = inverse_chaine(chaine)\n",
    "    return chaine == inverse\n",
    " \n",
    "def est_nbre_palindrome(nbre):\n",
    "    chaine = str(nbre)\n",
    "    return est_palindrome(chaine)\n",
    "\n",
    "\n",
    "# Jeu de tests\n",
    "print(inverse_chaine('bac'))     # Attendu :'cab'\n",
    "print(est_palindrome('NSI'))     # Attendu : False\n",
    "print(est_palindrome('ISN-NSI')) # Attendu : True\n",
    "print(est_nbre_palindrome(214312)) # Attendu : False\n",
    "print(est_nbre_palindrome(213312)) # Atendu : True\n"
   ]
  }
 ],
 "metadata": {
  "kernelspec": {
   "display_name": "Python 3 (ipykernel)",
   "language": "python",
   "name": "python3"
  },
  "language_info": {
   "codemirror_mode": {
    "name": "ipython",
    "version": 3
   },
   "file_extension": ".py",
   "mimetype": "text/x-python",
   "name": "python",
   "nbconvert_exporter": "python",
   "pygments_lexer": "ipython3",
   "version": "3.9.7"
  }
 },
 "nbformat": 4,
 "nbformat_minor": 5
}
