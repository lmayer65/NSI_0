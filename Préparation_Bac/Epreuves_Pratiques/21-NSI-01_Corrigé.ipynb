{
 "cells": [
  {
   "cell_type": "markdown",
   "metadata": {},
   "source": [
    "## Corrigé type du sujet 1 (Epreuve pratique)\n",
    "<u>Auteur</u> : M.Mayer, lycée Saint-Jean, Limoges\n",
    "\n",
    "Le sujet est ici : https://github.com/lmayer65/NSI_T/blob/main/Pr%C3%A9paration_Bac/Epreuves_Pratiques/21-NSI-01.pdf"
   ]
  },
  {
   "cell_type": "markdown",
   "metadata": {},
   "source": [
    "### <u>Exercice 1</u> :\n",
    "<u>Remarque</u> :  Il faut faire attention au fait de renvoyer l'indice de la <b>dernière</b> occurence de l'élément cherché et non la première !"
   ]
  },
  {
   "cell_type": "code",
   "execution_count": null,
   "metadata": {},
   "outputs": [],
   "source": [
    "# Première idée : inverser l'ordre de la liste, ainsi la première occurence trouvée sera en réalité la première :)\n",
    "# Méthode `Pythonesque`\n",
    "def recherche_py(tab,n) :\n",
    "    tab.reverse()\n",
    "    for value in tab : # Parcours de la liste `tab`\n",
    "        if value == n :\n",
    "            return len(tab) - 1 - tab.index(value) # Le tableau est inversé, attention !\n",
    "        \n",
    "    # Si on ne trouve rien, on renvoie la longueur du tableau\n",
    "    return len(tab)\n",
    "\n",
    "\n",
    "# Une version très concise qui utilise un opérateur ternaire de comparaison\n",
    "# (vous le retrouverez dans ce superbe langage C en cours d'année :) :) )\n",
    "def recherche_py2(tab,n) :\n",
    "    tab.reverse()\n",
    "    return len(tab) - 1 - tab.index(n) if n in tab else len(tab)\n",
    "\n",
    "\n",
    "# Version sauce C\n",
    "def recherche_c(tab,n) :\n",
    "    tab.reverse()\n",
    "    for i in range(len(tab)) : # Parcours de la liste `tab`\n",
    "        if tab[i] == n :  # le compteur `i`est en réalité l'indice de la liste\n",
    "            return len(tab) - 1 - i # Le tableau est inversé, attention !\n",
    "        \n",
    "    # Si on ne trouve rien, on renvoie la longueur du tableau\n",
    "    return len(tab)\n",
    "\n",
    "# Tests\n",
    "print(recherche_py([5,3],1)) # Attendu : 2\n",
    "print(recherche_py([2,4],2)) # Attendu : 0\n",
    "print(recherche_py([2,3,5,2,4],2)) # Attendu : 3\n",
    "print(\"\\n\")\n",
    "print(recherche_py2([5,3],1)) # Attendu : 2\n",
    "print(recherche_py2([2,4],2)) # Attendu : 0\n",
    "print(recherche_py2([2,3,5,2,4],2)) # Attendu : 3\n",
    "print(\"\\n\")\n",
    "print(recherche_c([5,3],1)) # Attendu : 2\n",
    "print(recherche_c([2,4],2)) # Attendu : 0\n",
    "print(recherche_c([2,3,5,2,4],2)) # Attendu : 3"
   ]
  },
  {
   "cell_type": "code",
   "execution_count": null,
   "metadata": {},
   "outputs": [],
   "source": [
    "# Autre idée : parcourir la liste à l'envers : il suffit de renvoyer le compteur\n",
    "\n",
    "def recherche_c2(tab,n) :\n",
    "    # Parcours à l'envers du tableau : on commence à l'indice len(tab)-1 jusqu'à zéro\n",
    "    for i in range(len(tab) - 1,-1,-1) : \n",
    "        if tab[i] == n :  # le compteur `i` est en réalité l'indice de la liste\n",
    "            return i \n",
    "        \n",
    "    # Si on ne trouve rien, on renvoie la longueur du tableau\n",
    "    return len(tab)\n",
    "\n",
    "#Test\n",
    "print(recherche_c2([5,3],1)) # Attendu : 2\n",
    "print(recherche_c2([2,4],2)) # Attendu : 0\n",
    "print(recherche_c2([2,3,5,2,4],2)) # Attendu : 3\n"
   ]
  },
  {
   "cell_type": "markdown",
   "metadata": {},
   "source": [
    "## <u>Exercice 2</u> :\n"
   ]
  },
  {
   "cell_type": "markdown",
   "metadata": {},
   "source": [
    "<u>Remarques</u> :\n",
    "\n",
    "1/ Les coordonnées d'une variable `point` (si on ne veut pas les modifier) sont très facilement représentées par un tuple en Python. On accèdera à son <b>abscisse par l'instruction point[0]</b> et à son <b>ordonnée par l'instruction point[1]</b>.\n",
    "\n",
    "2/ Dans l'exemple donné, on constate que le résultat est [2,5] (type `list`) et non (2,5) (type `tuple`). Le type `tuple`est bien plus adapté puisque l'on a une liste de tuples en paramètre dans l'exemple  :`assert plus_courte_distance([(7, 9), (2, 5), (5, 2)], (0, 0)) == [2, 5], \"erreur\" `. Il est donc plus simple de renvoyer un tuple, l'examinateur en tiendra évidemment gré :).\n",
    "    \n",
    "3/ Toujours dans l'exemple donné, le résultat est (2,5). Or, le point de coordonnées (5,2) est à la même distance de l'origine (0,0) : cela implique une comparaison \"stricte\" avec l'opérateur \"<\" et non \"<=\"."
   ]
  },
  {
   "cell_type": "code",
   "execution_count": null,
   "metadata": {},
   "outputs": [],
   "source": [
    "from math import sqrt\n",
    "\n",
    "# Fonction qui calcule la distance euclidienne entre deux points\n",
    "def distance(point1, point2) :\n",
    "    # Rappel : l'antislash \"\\\" permet de poursuivre une instruction sur plusieurs lignes\n",
    "    # Contrôle du caractère numérique des coordonnées avec la méthode `isnumeric()` mais il faut les convertir\n",
    "    # en chaîne de caractères d'où l'utilisation de la fonction de conversion `str()`\n",
    "    assert str(point1[0]).isnumeric() and str(point1[1]).isnumeric() and str(point2[0]).isnumeric() \\\n",
    "        and str(point2[1]).isnumeric(), \"Coordonnées numériques attendues !\"\n",
    "    return sqrt( (point1[0] - point2[0])**2 + (point1[1] - point2[1])**2 )\n",
    "\n",
    "\n",
    "def plus_courte_distance(tab,depart) :\n",
    "    point = tab[0]\n",
    "    # Calcul de la distance entre `depart` et le premier point de `tab`\n",
    "    min_dist = distance(point,depart)  \n",
    "    \n",
    "    # Le '1' dans le range(1,len(tab)) est logique puisque la variable `min_dist`\n",
    "    # contient la distance entre `depart` et `tab[0]`\n",
    "    for i in range(1,len(tab)) :\n",
    "        # Si on trouve une distance plus petite que `min_dist`\n",
    "        if distance(tab[i],depart) < min_dist : # Attention au \"<\" et non \"<=\"\n",
    "            # On a donc un nouveau point \n",
    "            point = tab[i]\n",
    "            # ... et une nouvelle distance minimale\n",
    "            min_dist = distance(tab[i],depart)\n",
    "            \n",
    "    return point # Sous forme de liste, on écrirait : return [point[0], point[1]]\n",
    "        \n",
    "# Test des fonctions distance et plus_courte_distance, si rien ne s'affiche, c'est bon signe :)\n",
    "assert distance((1, 0), (5, 3)) == 5.0, \"erreur de calcul\" # Attendu : rien :)\n",
    "assert plus_courte_distance([(7, 9), (2, 5), (5, 2)], (0, 0)) == (2, 5), \"erreur\" # Attendu : rien :)\n",
    "\n",
    "# Test du assert de la fonction distance\n",
    "# Attendu : \"Coordonnées numériques attendues\" (à cause du 'a')\n",
    "assert distance(('a', 0), (5, 3)) == 5.0, \"erreur de calcul\" \n"
   ]
  }
 ],
 "metadata": {
  "kernelspec": {
   "display_name": "Python 3",
   "language": "python",
   "name": "python3"
  },
  "language_info": {
   "codemirror_mode": {
    "name": "ipython",
    "version": 3
   },
   "file_extension": ".py",
   "mimetype": "text/x-python",
   "name": "python",
   "nbconvert_exporter": "python",
   "pygments_lexer": "ipython3",
   "version": "3.8.5"
  }
 },
 "nbformat": 4,
 "nbformat_minor": 4
}
