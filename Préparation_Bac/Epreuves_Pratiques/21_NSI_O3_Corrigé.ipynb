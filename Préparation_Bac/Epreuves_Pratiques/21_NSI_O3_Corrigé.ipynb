{
 "cells": [
  {
   "cell_type": "markdown",
   "metadata": {},
   "source": [
    "## Corrigé type du sujet 3 (Epreuve pratique)\n",
    "<u>Auteur</u> : M.Mayer, lycée Saint-Jean, Limoges\n",
    "\n",
    "Le sujet est ici : https://github.com/lmayer65/NSI_T/blob/main/Pr%C3%A9paration_Bac/Epreuves_Pratiques/21_NSI_03.pdf"
   ]
  },
  {
   "cell_type": "markdown",
   "metadata": {},
   "source": [
    "### <u>Exercice 1</u> :\n",
    "\n",
    "<u>Rappels</u> : \n",
    "\n",
    "1/ Une multiplication est une suite d'additions identiques.\n",
    "\n",
    "2/ Une soustraction est une addition de l'opposé d'un nombre."
   ]
  },
  {
   "cell_type": "code",
   "execution_count": null,
   "metadata": {},
   "outputs": [],
   "source": [
    "def multiplication(a,b) : # a et b sont des entiers\n",
    "    produit = 0\n",
    "    if a >= 0 : # On somme 'a' fois 'b'\n",
    "        for i in range(a) :\n",
    "            produit += b\n",
    "    elif b >= 0 : # On somme 'b' fois 'a'\n",
    "        for i in range(b) :\n",
    "            produit += a\n",
    "    else :\n",
    "        # Un produit de deux nombres négatifs est positif, on prend \n",
    "        # les opposés\n",
    "        a = -a\n",
    "        b = -b\n",
    "        for i in range(a) :\n",
    "            produit += b\n",
    "            \n",
    "    return produit\n",
    "\n",
    "\n",
    "# Jeu de tests\n",
    "print(multiplication(3,5))  # Attendu : 15\n",
    "print(multiplication(-4,-8))  # Attendu : 32\n",
    "print(multiplication(-2,6))  # Attendu : -12\n",
    "    \n",
    "        \n",
    "    "
   ]
  },
  {
   "cell_type": "code",
   "execution_count": null,
   "metadata": {},
   "outputs": [],
   "source": [
    "# VERSION faisant appel à au paradigme fonctionnel\n",
    "def multiplication(a,b) : # a et b sont des entiers.\n",
    "    produit = 0\n",
    "    if a >= 0 : # On somme 'a' fois 'b'\n",
    "        for i in range(a) :\n",
    "            produit += b\n",
    "        return produit\n",
    "    elif b >= 0 :\n",
    "        # La multiplication est commutative,\n",
    "        # on permute 'a' et 'b' et on rappelle la fonction\n",
    "        return multiplication(b,a)\n",
    "    else :\n",
    "        # On rappelle la fonction avec les opposés\n",
    "        return multiplication(-a,-b)\n",
    "    \n",
    "\n",
    "# Jeu de tests\n",
    "print(multiplication(3,5))  # Attendu : 15\n",
    "print(multiplication(-4,-8))  # Attendu : 32\n",
    "print(multiplication(-2,6))  # Attendu : -12\n",
    "    "
   ]
  },
  {
   "cell_type": "markdown",
   "metadata": {},
   "source": [
    "### <u>Exercice 2</u> :\n",
    "\n",
    "Le principe de dichotomie a été vu en Première. Lien : https://github.com/lmayer65/NSI_T/blob/main/Programme_NSI_1/Algorithmes/AGR.Bases.pdf (Page 4)\n",
    "\n",
    "Tous les commentaires utiles s'y trouvent (détail du script, efficacité de la'algorithme notamment)."
   ]
  },
  {
   "cell_type": "code",
   "execution_count": null,
   "metadata": {},
   "outputs": [],
   "source": [
    "def dichotomie(tab,x) :\n",
    "    debut = 0\n",
    "    fin = len(tab) - 1\n",
    "    \n",
    "    while debut <= fin :\n",
    "        m = (debut + fin) //2 \n",
    "        \n",
    "        if x == tab[m] :\n",
    "            return True\n",
    "        if x > tab[m] :\n",
    "            debut = m + 1\n",
    "        else :\n",
    "            fin = m - 1\n",
    "    \n",
    "    return False\n",
    "\n",
    "# Jeu de tests\n",
    "print(dichotomie([15,16,18,19,23,24,28,29,31,33],28)) # Attendu : True\n",
    "print(dichotomie([15,16,18,19,23,24,28,29,31,33],27)) # Attendu : False"
   ]
  }
 ],
 "metadata": {
  "kernelspec": {
   "display_name": "Python 3",
   "language": "python",
   "name": "python3"
  },
  "language_info": {
   "codemirror_mode": {
    "name": "ipython",
    "version": 3
   },
   "file_extension": ".py",
   "mimetype": "text/x-python",
   "name": "python",
   "nbconvert_exporter": "python",
   "pygments_lexer": "ipython3",
   "version": "3.8.5"
  }
 },
 "nbformat": 4,
 "nbformat_minor": 4
}
