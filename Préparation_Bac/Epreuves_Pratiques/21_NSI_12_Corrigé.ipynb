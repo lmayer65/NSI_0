{
 "cells": [
  {
   "cell_type": "markdown",
   "id": "6bd30517",
   "metadata": {},
   "source": [
    "## Corrigé type du sujet 12 (Epreuve pratique)\n",
    "<u>Auteur</u> : M.Mayer, lycée Saint-Jean, Limoges\n",
    "\n",
    "Le sujet est ici : https://github.com/lmayer65/NSI_T/blob/main/Pr%C3%A9paration_Bac/Epreuves_Pratiques/21_NSI_12.pdf"
   ]
  },
  {
   "cell_type": "markdown",
   "id": "f4f74594",
   "metadata": {},
   "source": [
    "### <u>Exercice 1</u> : Recherche dichotomique\n",
    "Un algorithme de recherche (sur liste triée) vu en Première, lien : https://github.com/lmayer65/NSI_T/blob/main/Programme_NSI_1/Algorithmes/AGR.Bases.pdf (à partir de page 4)"
   ]
  },
  {
   "cell_type": "code",
   "execution_count": null,
   "id": "85beda6a",
   "metadata": {},
   "outputs": [],
   "source": [
    "# Recherche dichotomique avec un tableau `tab` non vide\n",
    "def recherche(tab, n) :\n",
    "    # Indices minimum / maximum de recherche\n",
    "    # dans la liste.\n",
    "    indMin = 0\n",
    "    indMax = len(tab) - 1\n",
    "    \n",
    "    while indMin <= indMax :\n",
    "        # Recherche de l'indice de l'élément au\n",
    "        # centre de l'intervalle.\n",
    "        # Rappel : l'opérateur \"//\" est la division euclidienne.\n",
    "        indCentre = (indMin + indMax) // 2\n",
    "        \n",
    "        # Si on trouve l'élément, renvoi de l'indice\n",
    "        if tab[indCentre] == n :\n",
    "            return indCentre\n",
    "        # Si `n` se trouve dans la partie supérieure du tableau.\n",
    "        elif tab[indCentre] < n :\n",
    "            indMin = indCentre + 1\n",
    "        # Sinon (partie inférieure)\n",
    "        else :\n",
    "            indMax = indCentre - 1\n",
    "    \n",
    "    # Si on ne trouve pas l'élément, on renvoie -1\n",
    "    return -1\n",
    "    \n",
    "\n",
    "\n",
    "# Jeu de tests (version itérative)\n",
    "print(recherche([2, 3, 4, 5, 6], 5))              # Attendu : 3\n",
    "print(recherche([2, 3, 4, 6, 7], 5))              # Attendu : -1 "
   ]
  },
  {
   "cell_type": "markdown",
   "id": "32ce8327",
   "metadata": {},
   "source": [
    "### <u>Exercice 2</u> : Codage de César.\n"
   ]
  },
  {
   "cell_type": "code",
   "execution_count": null,
   "id": "e8647a82",
   "metadata": {},
   "outputs": [],
   "source": [
    "ALPHABET = 'ABCDEFGHIJKLMNOPQRSTUVWXYZ'\n",
    "\n",
    "def position_alphabet(lettre):\n",
    "    return ALPHABET.find(lettre)\n",
    "\n",
    "def cesar(message, decalage):\n",
    "    resultat = ''\n",
    "    # Parcours du message\n",
    "    for lettre in message :\n",
    "        # Si `lettre` est dans l'alphabet, on le code.\n",
    "        if lettre in ALPHABET :\n",
    "            indice = ( position_alphabet(lettre) + decalage )%26\n",
    "            resultat = resultat + ALPHABET[indice]\n",
    "        # Il s'agit d'un caractère spécial sinon (espace, point etc.) sinon,\n",
    "        # on l'ajoute simplement.\n",
    "        else:\n",
    "            resultat = resultat + lettre\n",
    "         \n",
    "    return resultat\n",
    "\n",
    "\n",
    "# Jeu de tests\n",
    "# Encodage\n",
    "print(cesar('BONJOUR A TOUS. VIVE LA MATIERE NSI !',4)) # Attendu : 'FSRNSYV E XSYW. ZMZI PE QEXMIVI RWM !'\n",
    "# Decodage\n",
    "print(cesar('GTSOTZW F YTZX. ANAJ QF RFYNJWJ SXN !',-5))  # Attendu : 'BONJOUR A TOUS. VIVE LA MATIERE NSI !'"
   ]
  }
 ],
 "metadata": {
  "kernelspec": {
   "display_name": "Python 3 (ipykernel)",
   "language": "python",
   "name": "python3"
  },
  "language_info": {
   "codemirror_mode": {
    "name": "ipython",
    "version": 3
   },
   "file_extension": ".py",
   "mimetype": "text/x-python",
   "name": "python",
   "nbconvert_exporter": "python",
   "pygments_lexer": "ipython3",
   "version": "3.9.7"
  }
 },
 "nbformat": 4,
 "nbformat_minor": 5
}
