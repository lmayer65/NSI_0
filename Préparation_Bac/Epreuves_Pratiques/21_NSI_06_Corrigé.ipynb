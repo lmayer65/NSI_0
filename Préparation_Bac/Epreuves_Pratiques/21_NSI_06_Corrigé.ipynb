{
 "cells": [
  {
   "cell_type": "markdown",
   "metadata": {},
   "source": [
    "## Corrigé type du sujet 1 (Epreuve pratique)\n",
    "<u>Auteur</u> : M.Mayer, lycée Saint-Jean, Limoges\n",
    "\n",
    "Le sujet est ici : https://github.com/lmayer65/NSI_T/blob/main/Pr%C3%A9paration_Bac/Epreuves_Pratiques/21-NSI-06.pdf"
   ]
  },
  {
   "cell_type": "markdown",
   "metadata": {},
   "source": [
    "### <u>Exercice 1</u> : Suite de Fibonacci"
   ]
  },
  {
   "cell_type": "code",
   "execution_count": null,
   "metadata": {},
   "outputs": [],
   "source": [
    "def fibonacci(n) :\n",
    "    # Si l'indice est 0 ou 1, on renvoie l'indice\n",
    "    if n <= 1 :\n",
    "        return n\n",
    "    \n",
    "    # Il faut 2 valeurs de départ (récurrence double)\n",
    "    U0 = 0     # Terme initial\n",
    "    U1 = 1     # Terme suivant\n",
    "    U2 = U0 + U1\n",
    "    indice = 2 # Indice courant de la suite\n",
    "    \n",
    "    while indice <= n :\n",
    "        U2 = U0 + U1\n",
    "        U0,U1 = U1,U2 # U0 devient U1 et U1 devient U2\n",
    "        indice += 1\n",
    "        \n",
    "    return U2\n",
    "\n",
    "# Jeu de tests\n",
    "print(fibonacci(0))  # Attendu : 0\n",
    "print(fibonacci(1))  # Attendu : 1\n",
    "print(fibonacci(25)) # Attendu : 75025\n",
    "print(fibonacci(45)) # Attendu : 1134903170"
   ]
  },
  {
   "cell_type": "markdown",
   "metadata": {},
   "source": [
    "### <u>Exercice 2</u> : Meilleures notes"
   ]
  },
  {
   "cell_type": "code",
   "execution_count": null,
   "metadata": {},
   "outputs": [],
   "source": [
    "liste_eleves = ['a','b','c','d','e','f','g','h','i','j']\n",
    "liste_notes = [1,40,80,60,58,80,75,80,60,24]\n",
    "\n",
    "def meilleures_notes() :\n",
    "    # Valeurs par défaut\n",
    "    note_maxi = 0\n",
    "    nb_eleves_note_maxi = 0\n",
    "    liste_maxi = []\n",
    "    \n",
    "    for compteur in range(len(liste_eleves)) : # On parcourt les listes\n",
    "        if liste_notes[compteur] == note_maxi :# \n",
    "            # Si un élève a obtenu la meilleure note trouvée jusque là\n",
    "            nb_eleves_note_maxi = nb_eleves_note_maxi + 1\n",
    "            liste_maxi.append(liste_eleves[compteur])\n",
    "        if liste_notes[compteur] > note_maxi : # Si on trouve une meilleure note\n",
    "            note_maxi = liste_notes[compteur]  # elle devient la meilleure note\n",
    "            nb_eleves_note_maxi = 1   # Un seul élève l'a obtenue à ce moment\n",
    "            liste_maxi = [liste_eleves[compteur]]  # Il forme le début de la nouvelle liste\n",
    "            \n",
    "    return (note_maxi,nb_eleves_note_maxi,liste_maxi)\n",
    "\n",
    "\n",
    "# Jeu de test\n",
    "print(meilleures_notes())  # Attendu : (80, 3, ['c', 'f', 'h'])\n",
    "    "
   ]
  },
  {
   "cell_type": "markdown",
   "metadata": {},
   "source": [
    "<u>Remarques</u> : \n",
    "- l'algorithme proposé est plus performant en complexité temporelle que celui -naturel- qui consisterait à d'abord chercher la meilleure note (donc parcourir une liste) puis à en déduire les élèves l'ayant obtenu (donc re-parcourir une liste).\n",
    "\n",
    "- la méthode 'append()' a un coût constant."
   ]
  }
 ],
 "metadata": {
  "kernelspec": {
   "display_name": "Python 3",
   "language": "python",
   "name": "python3"
  },
  "language_info": {
   "codemirror_mode": {
    "name": "ipython",
    "version": 3
   },
   "file_extension": ".py",
   "mimetype": "text/x-python",
   "name": "python",
   "nbconvert_exporter": "python",
   "pygments_lexer": "ipython3",
   "version": "3.8.5"
  }
 },
 "nbformat": 4,
 "nbformat_minor": 4
}
