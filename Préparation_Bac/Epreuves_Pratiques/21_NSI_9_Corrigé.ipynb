{
 "cells": [
  {
   "cell_type": "markdown",
   "metadata": {},
   "source": [
    "## Corrigé type du sujet 9 (Epreuve pratique)\n",
    "<u>Auteur</u> : M.Mayer, lycée Saint-Jean, Limoges\n",
    "\n",
    "Le sujet est ici : https://github.com/lmayer65/NSI_T/blob/main/Pr%C3%A9paration_Bac/Epreuves_Pratiques/21_NSI_09.pdf"
   ]
  },
  {
   "cell_type": "markdown",
   "metadata": {},
   "source": [
    "### <u>Exercice 1</u> : Tri par sélection.\n",
    "Ce sujet a été traité en Première, voici le lien : https://github.com/lmayer65/NSI_T/blob/main/Programme_NSI_1/Algorithmes/AGR.Tri.pdf.\n"
   ]
  },
  {
   "cell_type": "code",
   "execution_count": null,
   "metadata": {},
   "outputs": [],
   "source": [
    "def tri_selection(tab) :\n",
    "    # Le dernier élément sera forcément le plus grand, on peut s'arrêter à l'avant dernier\n",
    "    for i in range(len(tab)-1) :\n",
    "        # Le ième élément est le plus petit par défaut, on récupère son indice également\n",
    "        min_val = tab[i]\n",
    "        min_ind = i\n",
    "        for j in range(i+1,len(tab)) : # Les i premiers éléments sont déjà triés \n",
    "            # Si on trouve un élément encore plus petit, \n",
    "            # c'est lui qui devient min_val avec son indice\n",
    "            if tab[j] < min_val :\n",
    "                min_val = tab[j]\n",
    "                min_ind = j\n",
    "        # On permute les ième / min_ind éléments    \n",
    "        tab[i],tab[min_ind] = tab[min_ind],tab[i]\n",
    "            \n",
    "    return tab\n",
    "\n",
    "\n",
    "# Jeu de test\n",
    "print(tri_selection([1,52,6,-9,12]))  # Attendu : [-9, 1, 6, 12, 52]   "
   ]
  },
  {
   "cell_type": "markdown",
   "metadata": {},
   "source": [
    "### <u>Exercice 2</u> : Jeu du \"plus ou moins\".\n",
    "<u>A noter</u> : la méthode la plus efficace est d'utiliser la dichotomie (on gagne à tous les coups d'ailleurs :) )."
   ]
  },
  {
   "cell_type": "code",
   "execution_count": null,
   "metadata": {},
   "outputs": [],
   "source": [
    "from random import randint\n",
    "\n",
    "def plus_ou_moins():\n",
    "    nb_mystere = randint(1,99)\n",
    "    nb_test = int(input(\"Proposez un nombre entre 1 et 99 : \"))\n",
    "    compteur = 1  # Première proposition d'où le `1`\n",
    "    \n",
    "    # Tant que l'on ne trouve pas le nombre mystère avec 10 essais au maximum\n",
    "    while nb_mystere != nb_test and compteur < 10 :\n",
    "        compteur = compteur + 1\n",
    "        if nb_test < nb_mystere:\n",
    "            nb_test = int(input(\"Trop petit ! Testez encore : \"))\n",
    "        else:\n",
    "            nb_test = int(input(\"Trop grand ! Testez encore : \"))\n",
    "\n",
    "    if nb_mystere == nb_test:\n",
    "        print (\"Bravo ! Le nombre était \",nb_mystere)\n",
    "        print(\"Nombre d'essais: \",compteur)\n",
    "    else:\n",
    "        print (\"Perdu ! Le nombre était \",nb_mystere)\n",
    "        \n",
    "# A tester\n",
    "print(plus_ou_moins())"
   ]
  },
  {
   "cell_type": "code",
   "execution_count": null,
   "metadata": {},
   "outputs": [],
   "source": []
  }
 ],
 "metadata": {
  "kernelspec": {
   "display_name": "Python 3",
   "language": "python",
   "name": "python3"
  },
  "language_info": {
   "codemirror_mode": {
    "name": "ipython",
    "version": 3
   },
   "file_extension": ".py",
   "mimetype": "text/x-python",
   "name": "python",
   "nbconvert_exporter": "python",
   "pygments_lexer": "ipython3",
   "version": "3.8.5"
  }
 },
 "nbformat": 4,
 "nbformat_minor": 4
}
