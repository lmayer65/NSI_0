{
 "cells": [
  {
   "cell_type": "markdown",
   "metadata": {},
   "source": [
    "## Corrigé type du sujet 2 (Epreuve pratique)\n",
    "<u>Auteur</u> : M.Mayer, lycée Saint-Jean, Limoges\n",
    "\n",
    "Le sujet est ici : https://github.com/lmayer65/NSI_T/blob/main/Pr%C3%A9paration_Bac/Epreuves_Pratiques/21-NSI-02.pdf"
   ]
  },
  {
   "cell_type": "markdown",
   "metadata": {},
   "source": [
    "### <u>Exercice 1</u> :\n",
    "Pas de difficulté majeure."
   ]
  },
  {
   "cell_type": "code",
   "execution_count": 2,
   "metadata": {},
   "outputs": [
    {
     "name": "stdout",
     "output_type": "stream",
     "text": [
      "5.333333333333333\n",
      "5.5\n"
     ]
    },
    {
     "ename": "AssertionError",
     "evalue": "erreur",
     "output_type": "error",
     "traceback": [
      "\u001b[1;31m---------------------------------------------------------------------------\u001b[0m",
      "\u001b[1;31mAssertionError\u001b[0m                            Traceback (most recent call last)",
      "\u001b[1;32m<ipython-input-2-71893a06cbc2>\u001b[0m in \u001b[0;36m<module>\u001b[1;34m\u001b[0m\n\u001b[0;32m     15\u001b[0m \u001b[0mprint\u001b[0m\u001b[1;33m(\u001b[0m\u001b[0mmoyenne\u001b[0m\u001b[1;33m(\u001b[0m\u001b[1;33m[\u001b[0m\u001b[1;36m5\u001b[0m\u001b[1;33m,\u001b[0m\u001b[1;36m3\u001b[0m\u001b[1;33m,\u001b[0m\u001b[1;36m8\u001b[0m\u001b[1;33m]\u001b[0m\u001b[1;33m)\u001b[0m\u001b[1;33m)\u001b[0m \u001b[1;31m# Attendu : 5.3333 ...\u001b[0m\u001b[1;33m\u001b[0m\u001b[1;33m\u001b[0m\u001b[0m\n\u001b[0;32m     16\u001b[0m \u001b[0mprint\u001b[0m\u001b[1;33m(\u001b[0m\u001b[0mmoyenne\u001b[0m\u001b[1;33m(\u001b[0m\u001b[1;33m[\u001b[0m\u001b[1;36m1\u001b[0m\u001b[1;33m,\u001b[0m\u001b[1;36m2\u001b[0m\u001b[1;33m,\u001b[0m\u001b[1;36m3\u001b[0m\u001b[1;33m,\u001b[0m\u001b[1;36m4\u001b[0m\u001b[1;33m,\u001b[0m\u001b[1;36m5\u001b[0m\u001b[1;33m,\u001b[0m\u001b[1;36m6\u001b[0m\u001b[1;33m,\u001b[0m\u001b[1;36m7\u001b[0m\u001b[1;33m,\u001b[0m\u001b[1;36m8\u001b[0m\u001b[1;33m,\u001b[0m\u001b[1;36m9\u001b[0m\u001b[1;33m,\u001b[0m\u001b[1;36m10\u001b[0m\u001b[1;33m]\u001b[0m\u001b[1;33m)\u001b[0m\u001b[1;33m)\u001b[0m  \u001b[1;31m# Attendu : 5.5 ...\u001b[0m\u001b[1;33m\u001b[0m\u001b[1;33m\u001b[0m\u001b[0m\n\u001b[1;32m---> 17\u001b[1;33m \u001b[0mprint\u001b[0m\u001b[1;33m(\u001b[0m\u001b[0mmoyenne\u001b[0m\u001b[1;33m(\u001b[0m\u001b[1;33m[\u001b[0m\u001b[1;33m]\u001b[0m\u001b[1;33m)\u001b[0m\u001b[1;33m)\u001b[0m \u001b[1;31m# Attendu : \"erreur\"\u001b[0m\u001b[1;33m\u001b[0m\u001b[1;33m\u001b[0m\u001b[0m\n\u001b[0m",
      "\u001b[1;32m<ipython-input-2-71893a06cbc2>\u001b[0m in \u001b[0;36mmoyenne\u001b[1;34m(tab)\u001b[0m\n\u001b[0;32m      1\u001b[0m \u001b[1;32mdef\u001b[0m \u001b[0mmoyenne\u001b[0m\u001b[1;33m(\u001b[0m\u001b[0mtab\u001b[0m\u001b[1;33m)\u001b[0m \u001b[1;33m:\u001b[0m\u001b[1;33m\u001b[0m\u001b[1;33m\u001b[0m\u001b[0m\n\u001b[0;32m      2\u001b[0m     \u001b[1;31m# Gestion d'une liste vide par une assertion\u001b[0m\u001b[1;33m\u001b[0m\u001b[1;33m\u001b[0m\u001b[1;33m\u001b[0m\u001b[0m\n\u001b[1;32m----> 3\u001b[1;33m     \u001b[1;32massert\u001b[0m \u001b[0mlen\u001b[0m\u001b[1;33m(\u001b[0m\u001b[0mtab\u001b[0m\u001b[1;33m)\u001b[0m \u001b[1;33m>\u001b[0m \u001b[1;36m0\u001b[0m\u001b[1;33m,\u001b[0m \u001b[1;34m\"erreur\"\u001b[0m\u001b[1;33m\u001b[0m\u001b[1;33m\u001b[0m\u001b[0m\n\u001b[0m\u001b[0;32m      4\u001b[0m \u001b[1;33m\u001b[0m\u001b[0m\n\u001b[0;32m      5\u001b[0m     \u001b[0msomme\u001b[0m \u001b[1;33m=\u001b[0m \u001b[1;36m0\u001b[0m\u001b[1;33m\u001b[0m\u001b[1;33m\u001b[0m\u001b[0m\n",
      "\u001b[1;31mAssertionError\u001b[0m: erreur"
     ]
    }
   ],
   "source": [
    "def moyenne(tab) :\n",
    "    # Gestion d'une liste vide par une assertion\n",
    "    assert len(tab) > 0, \"erreur\"\n",
    "    \n",
    "    somme = 0\n",
    "    # Addition des valeurs\n",
    "    for valeur in tab :\n",
    "        somme += valeur\n",
    "    \n",
    "    # Renvoi de la somme\n",
    "    return somme/len(tab)\n",
    "\n",
    "\n",
    "# Jeu de tests\n",
    "print(moyenne([5,3,8])) # Attendu : 5.3333 ...\n",
    "print(moyenne([1,2,3,4,5,6,7,8,9,10]))  # Attendu : 5.5 ...\n",
    "print(moyenne([])) # Attendu : \"erreur\""
   ]
  },
  {
   "cell_type": "markdown",
   "metadata": {},
   "source": [
    "### <u>Exercice 2</u> : il s'agit d'une fonction de tri, dans la lignée de celles vues en Première et Terminale.\n",
    "\n",
    "<b><u>Réponse attendue</u></b> :\n",
    "\n",
    "<u>Remarques</u> :\n",
    "\n",
    "1/ L'indice `i` pointe au début du tableau (valeur : 0) et l'indice `j` en fin de tableau (valeur : len(tab) - 1).\n",
    "\n",
    "2/ L'idée est de récupérer la valeur de `tab[j]` et de l'affecter à `tab[i]` : elle sera donc traitée lors du prochain tour dans la boucle `while`."
   ]
  },
  {
   "cell_type": "code",
   "execution_count": 2,
   "metadata": {},
   "outputs": [
    {
     "name": "stdout",
     "output_type": "stream",
     "text": [
      "[0, 0, 0, 0, 0, 1, 1, 1, 1]\n"
     ]
    }
   ],
   "source": [
    "def tri(tab) :\n",
    "    i = 0  # Indice du début du tableau, i sera incrémenté.\n",
    "    j = len(tab) - 1 # Indice de fin de tableau, j sera décrémenté.\n",
    "    \n",
    "    \n",
    "    while i != j : # Si i >= j, c'est que le tableau a été traité.\n",
    "        # Si `tab[i] vaut zéro, rien à changer, on passe à l'indice suivant.\n",
    "        if tab[i] == 0 : \n",
    "            i = i + 1\n",
    "        else : \n",
    "            # Il faut récupérer la valeur de `tab[j]` pour la comparer à 1\n",
    "            # elle sera perdue à cause de l'affectation à la ligne suivante.\n",
    "            valeur = tab[j]\n",
    "            tab[j] = 1 \n",
    "            tab[i] = valeur # Affectation à tab[i] de la valeur de tab[j]\n",
    "            j = j-1\n",
    "                                                \n",
    "    return tab\n",
    "\n",
    "\n",
    "# Jeu de tests\n",
    "print(tri([0,1,0,1,0,1,0,1,0]))  # Attendu : [0,0,0,0,0,1,1,1,1]\n"
   ]
  },
  {
   "cell_type": "markdown",
   "metadata": {},
   "source": [
    " <b><u>Autre possibilité mais plus longue ET plus compliquée pour ceux qui ont un esprit tordu :) !!</u></b>"
   ]
  },
  {
   "cell_type": "code",
   "execution_count": 1,
   "metadata": {},
   "outputs": [
    {
     "name": "stdout",
     "output_type": "stream",
     "text": [
      "[0, 0, 0, 0, 0, 1, 1, 1, 1]\n"
     ]
    }
   ],
   "source": [
    "def tri(tab) :\n",
    "    i = 0  # Indice du début du tableau, i sera incrémenté.\n",
    "    j = len(tab) - 1 # Indice de fin de tableau, j sera décrémenté.\n",
    "    \n",
    "    \n",
    "    while i != j : # Si i >= j, c'est que le tableau a été traité.\n",
    "        # Si `tab[i] vaut zéro, rien à changer, on passe à l'indice suivant.\n",
    "        if tab[i] == 0 : \n",
    "            i = i + 1\n",
    "        else : \n",
    "            # Il faut récupérer la valeur de `tab[j]` pour la comparer à 1\n",
    "            # elle sera perdue à cause de l'affectation à la ligne suivante.\n",
    "            valeur = tab[j]\n",
    "            tab[j] = 1 # Peu utile ici\n",
    "            \n",
    "            # Mise à zéro de 'tab[i]' puisqu'elle valait `1`.\n",
    "            tab[i] = 0\n",
    "            \n",
    "            # Si la valeur récupérée est de 1, on teste les valeurs des\n",
    "            # indices inférieurs. Attention à j > i !\n",
    "            while valeur == 1 and j > i :\n",
    "                j = j - 1  # On pointe à l'indice inférieur.\n",
    "                valeur = tab[j]\n",
    "      \n",
    "            # Mise à 1 au premier `tab[j]` valant zéro.\n",
    "            tab[j] = 1\n",
    "                                      \n",
    "            \n",
    "    return tab\n",
    "\n",
    "\n",
    "# Jeu de tests\n",
    "print(tri([0,1,0,1,0,1,0,1,0]))  # Attendu : [0,0,0,0,0,1,1,1,1]\n"
   ]
  }
 ],
 "metadata": {
  "kernelspec": {
   "display_name": "Python 3",
   "language": "python",
   "name": "python3"
  },
  "language_info": {
   "codemirror_mode": {
    "name": "ipython",
    "version": 3
   },
   "file_extension": ".py",
   "mimetype": "text/x-python",
   "name": "python",
   "nbconvert_exporter": "python",
   "pygments_lexer": "ipython3",
   "version": "3.8.5"
  }
 },
 "nbformat": 4,
 "nbformat_minor": 4
}
