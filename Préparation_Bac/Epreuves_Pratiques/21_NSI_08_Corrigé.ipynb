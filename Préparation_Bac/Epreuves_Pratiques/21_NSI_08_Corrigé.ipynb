{
 "cells": [
  {
   "cell_type": "markdown",
   "metadata": {},
   "source": [
    "## Corrigé type du sujet 8 (Epreuve pratique)\n",
    "<u>Auteur</u> : M.Mayer, lycée Saint-Jean, Limoges\n",
    "\n",
    "Le sujet est ici : https://github.com/lmayer65/NSI_T/blob/main/Pr%C3%A9paration_Bac/Epreuves_Pratiques/21_NSI_08.pdf"
   ]
  },
  {
   "cell_type": "markdown",
   "metadata": {},
   "source": [
    "### <u>Exercice 1</u> : Conversion d'un nombre entier naturel en binaire.\n",
    "Ce sujet a été traité en Première, voici le lien : https://github.com/lmayer65/NSI_T/blob/main/Programme_NSI_1/Repr%C3%A9sentation_Num%C3%A9rique_Donn%C3%A9es/Types.Base/RND.Nombres%20entiers.pdf (page 2).\n",
    "\n",
    "<u>Remarque</u> : bien <b>lire</b> l'énoncé qui donne l'ébauche de l'algorithme à implémenter."
   ]
  },
  {
   "cell_type": "code",
   "execution_count": null,
   "metadata": {},
   "outputs": [],
   "source": [
    "# Conversion en binaire\n",
    "def conv_bin(n) :\n",
    "    tab_binaire = []  # Récupère les valeurs des bits.\n",
    "    nbr_bit = 1  # Compteur du nombre de bits. \n",
    "    \n",
    "    # Tant que l'on peut diviser `n` par deux.\n",
    "    while n >= 2 :\n",
    "        tab_binaire.append(n%2)    # Ajout du bit correspondant.     \n",
    "        n = n//2     # Divisions euclidiennes par 2 successives.          \n",
    "        nbr_bit += 1 # Incrémentation du compteur.\n",
    "    \n",
    "    # Attention : Ne pas oublier le bit faible.\n",
    "    tab_binaire.append(n%2)   \n",
    "    \n",
    "    # Renversement du tableau, le bit fort à gauche !\n",
    "    tab_binaire.reverse()\n",
    "    \n",
    "    return (tab_binaire, nbr_bit)\n",
    "        \n",
    "        \n",
    "# Jeu de tests\n",
    "print(conv_bin(9)) # Attendu : ([1,0,0,1],4)\n",
    "print(conv_bin(0)) # Attendu : ([0],1)"
   ]
  },
  {
   "cell_type": "markdown",
   "metadata": {},
   "source": [
    "### <u>Exercice 2</u> : Tri à bulles.\n",
    "\n",
    "<u>A noter</u> : Le tri à bulles est un algorithme de tri qui consiste à parcourir la liste pour trier de manière répétée tout en comparant des paires d'éléments adjacents. Si une paire d'éléments est dans le mauvais ordre, ils sont permutés pour les placer dans le bon ordre. Cette traversée est répétée jusqu'à ce qu'aucun échange supplémentaire ne soit nécessaire (ce qui signifie que la liste est triée).\n"
   ]
  },
  {
   "cell_type": "code",
   "execution_count": 31,
   "metadata": {},
   "outputs": [
    {
     "name": "stdout",
     "output_type": "stream",
     "text": [
      "[-3, 0, 2, 5, 8, 9, 9]\n",
      "[-3, 0, 2, 5, 8, 9, 9]\n"
     ]
    }
   ],
   "source": [
    "def tri_bulles(T):\n",
    "    n = len(T)\n",
    "    # Attention : bien partir du rang `n-1`\n",
    "    for i in range(n-1,0,-1) :\n",
    "        for j in range(i):\n",
    "            # Permutation de valeurs\n",
    "            if T[j] > T[j+1] :\n",
    "                temp = T[j]\n",
    "                T[j] = T[j+1]\n",
    "                T[j+1] = temp\n",
    "    return T\n",
    "\n",
    "\n",
    "def tri_bulles_bis(T):\n",
    "    n = len(T)\n",
    "    for i in range(n-1) :\n",
    "        # Attention : variations de `j` !\n",
    "        for j in range(n-i-1):\n",
    "            if T[j] > T[j+1] :\n",
    "                T[j], T[j+1] = T[j+1], T[j] # Permutation de valeurs\n",
    "    \n",
    "    return T\n",
    "\n",
    "# Jeu de tests\n",
    "print(tri_bulles([2,-3,5,9,0,8,9]))   # Attendu : [-3, 0, 2, 5, 8, 9, 9]\n",
    "print(tri_bulles_bis([2,-3,5,9,0,8,9]))   # Attendu : [-3, 0, 2, 5, 8, 9, 9]"
   ]
  },
  {
   "cell_type": "code",
   "execution_count": null,
   "metadata": {},
   "outputs": [],
   "source": []
  }
 ],
 "metadata": {
  "kernelspec": {
   "display_name": "Python 3",
   "language": "python",
   "name": "python3"
  },
  "language_info": {
   "codemirror_mode": {
    "name": "ipython",
    "version": 3
   },
   "file_extension": ".py",
   "mimetype": "text/x-python",
   "name": "python",
   "nbconvert_exporter": "python",
   "pygments_lexer": "ipython3",
   "version": "3.8.5"
  }
 },
 "nbformat": 4,
 "nbformat_minor": 4
}
