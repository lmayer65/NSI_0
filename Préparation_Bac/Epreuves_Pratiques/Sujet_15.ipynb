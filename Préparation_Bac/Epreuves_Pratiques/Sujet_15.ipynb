{
 "cells": [
  {
   "cell_type": "markdown",
   "id": "6bd30517",
   "metadata": {},
   "source": [
    "## Corrigé type du sujet 15 (Epreuve pratique)\n",
    "<u>Auteur</u> : M.Mayer, lycée Saint-Jean, Limoges\n",
    "\n",
    "Le sujet est ici : https://github.com/lmayer65/NSI_T/blob/main/Pr%C3%A9paration_Bac/Epreuves_Pratiques/22_NSI_03.pdf"
   ]
  },
  {
   "cell_type": "markdown",
   "id": "f4f74594",
   "metadata": {},
   "source": [
    "### <u>Exercice 1</u> : Une méthode de compression\n"
   ]
  },
  {
   "cell_type": "code",
   "execution_count": 1,
   "id": "a954532f",
   "metadata": {},
   "outputs": [
    {
     "name": "stdout",
     "output_type": "stream",
     "text": [
      "[1000, -200, 2, 198, 3]\n",
      "[42]\n"
     ]
    }
   ],
   "source": [
    "def delta(tab):\n",
    "    # Le premier élément de la variable `tab`\n",
    "    tab_compresse = [tab[0]]\n",
    "    \n",
    "    # A partir du second indice\n",
    "    for i in range(1, len(tab)):\n",
    "        # Calcul de la difference entre deux termes consécutifs\n",
    "        difference = tab[i] - tab[i-1]\n",
    "        \n",
    "        # Ajout dans le tableau compressé.\n",
    "        tab_compresse.append(difference)\n",
    "        \n",
    "    return tab_compresse\n",
    "\n",
    "\n",
    "# Jeu de tests\n",
    "print(delta([1000, 800, 802, 1000, 1003]))   # Attendu : [1000, -200, 2, 198, 3]\n",
    "\n",
    "# Erreur : on attend bien une liste même avec une seule valeur.\n",
    "print(delta([42]))    # Attendu : [42]"
   ]
  },
  {
   "cell_type": "markdown",
   "id": "32ce8327",
   "metadata": {},
   "source": [
    "### <u>Exercice 2</u> : Arbre et priorités de calculs\n",
    "\n"
   ]
  },
  {
   "cell_type": "code",
   "execution_count": 3,
   "id": "e8647a82",
   "metadata": {},
   "outputs": [
    {
     "data": {
      "text/plain": [
       "'((3*(8+7))-(2+1))'"
      ]
     },
     "execution_count": 3,
     "metadata": {},
     "output_type": "execute_result"
    }
   ],
   "source": [
    "class Noeud:\n",
    "    '''\n",
    "    Classe implémentant un noeud d'arbre binaire disposant de 3\n",
    "    attributs :\n",
    "    - valeur : la valeur de l'étiquette,\n",
    "    - gauche : le sous-arbre gauche.\n",
    "    - droit : le sous-arbre droit.\n",
    "    '''\n",
    "    def __init__(self, g, v, d):\n",
    "        self.gauche = g\n",
    "        self.valeur = v\n",
    "        self.droit = d\n",
    "\n",
    "    def est_une_feuille(self):\n",
    "        '''Renvoie True si et seulement si le noeud est une feuille'''\n",
    "        return self.gauche is None and self.droit is None\n",
    "\n",
    "    \n",
    "e = Noeud(Noeud(Noeud(None, 3, None), '*', Noeud(Noeud(None, 8, None),\n",
    "'+', Noeud(None, 7, None))), '-', Noeud(Noeud(None, 2, None), '+',\n",
    "Noeud(None, 1, None)))\n",
    "\n",
    "\n",
    "def expression_infixe(e):\n",
    "    s = \"\"\n",
    "    # Parcours du sous-arbre gauche tant que c'est possible.\n",
    "    if e.gauche is not None:\n",
    "        s = s + expression_infixe(e.gauche)\n",
    "        \n",
    "    # Rappel : str() permet de convertir en chaîne de caractères.\n",
    "    s = s + str(e.valeur)\n",
    "    \n",
    "    # Parcours du sous-arbre droit tant que c'est possible.\n",
    "    if e.droit is not None:\n",
    "        s = s + expression_infixe(e.droit)\n",
    "    \n",
    "    if e.est_une_feuille():\n",
    "        return s\n",
    "    \n",
    "    # Concaténation de caratères (et non addition)\n",
    "    return '('+ s +')'\n",
    "\n",
    "\n",
    "# Jeu de test\n",
    "print(expression_infixe(e))    # Attendu : ((3*(8+7))-(2+1))"
   ]
  }
 ],
 "metadata": {
  "kernelspec": {
   "display_name": "Python 3 (ipykernel)",
   "language": "python",
   "name": "python3"
  },
  "language_info": {
   "codemirror_mode": {
    "name": "ipython",
    "version": 3
   },
   "file_extension": ".py",
   "mimetype": "text/x-python",
   "name": "python",
   "nbconvert_exporter": "python",
   "pygments_lexer": "ipython3",
   "version": "3.9.7"
  }
 },
 "nbformat": 4,
 "nbformat_minor": 5
}
