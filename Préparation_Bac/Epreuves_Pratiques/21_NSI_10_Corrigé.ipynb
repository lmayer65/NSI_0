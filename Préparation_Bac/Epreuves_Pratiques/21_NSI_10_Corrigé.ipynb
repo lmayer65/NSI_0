{
 "cells": [
  {
   "cell_type": "markdown",
   "id": "6bd30517",
   "metadata": {},
   "source": [
    "## Corrigé type du sujet 10 (Epreuve pratique)\n",
    "<u>Auteur</u> : M.Mayer, lycée Saint-Jean, Limoges\n",
    "\n",
    "Le sujet est ici : https://github.com/lmayer65/NSI_T/blob/main/Pr%C3%A9paration_Bac/Epreuves_Pratiques/21_NSI_10.pdf"
   ]
  },
  {
   "cell_type": "markdown",
   "id": "f4f74594",
   "metadata": {},
   "source": [
    "### <u>Exercice 1</u> : Recherche d'un maximum et minimum d'une liste.\n",
    "Deux algorithmes de base vu en Première, lien : https://github.com/lmayer65/NSI_T/blob/main/Programme_NSI_1/Algorithmes/AGR.Bases.pdf (page 3)\n",
    "Attention à l'utilisation des dictionnaires, lien : https://github.com/lmayer65/NSI_T/blob/main/Programme_NSI_1/Repr%C3%A9sentation_Num%C3%A9rique_Donn%C3%A9es/Types.Construits/RND.Types.Construits.pdf (à partir de la page 10)"
   ]
  },
  {
   "cell_type": "code",
   "execution_count": null,
   "id": "85beda6a",
   "metadata": {},
   "outputs": [],
   "source": [
    "def RechercheMinMax(tableau) :\n",
    "    # Initialisation du dictionnaire récoltant les valeurs minimales / maximales de la variable `tableau`.\n",
    "    dico = {'Min' : None , 'Max' : None }\n",
    "    \n",
    "    # Initialisation des valeurs extrêmes : on prend la première valeur de la variable `tableau`.\n",
    "    valeur_min = tableau[0]\n",
    "    valeur_max = tableau[0]\n",
    "    \n",
    "    # Parcours des éléments du tableau.\n",
    "    for val in tableau :\n",
    "        # Cas d'un minimum local.\n",
    "        if val < valeur_min :\n",
    "            valeur_min = val\n",
    "        # Sinon d'un maximum local.\n",
    "        elif val > valeur_max :\n",
    "            valeur_max = val\n",
    "    \n",
    "    # On complète le dictionnaire une fois la liste entièrement parcourue.\n",
    "    dico['Min'] = valeur_min\n",
    "    dico['Max'] = valeur_max\n",
    "    \n",
    "    return dico \n",
    "\n",
    "\n",
    "# Jeu de tests\n",
    "print(RechercheMinMax([0,1,4,2,-2,9,3,1,7,1])) # Attendu : {'Min': -2, 'Max': 9} \n",
    "    "
   ]
  },
  {
   "cell_type": "markdown",
   "id": "ad1263f7",
   "metadata": {},
   "source": [
    "### <u>Exercice 2</u> : Jeu de cartes.\n",
    "Retour sur les assertions vues cette année, lien ici : \n",
    "https://github.com/lmayer65/NSI_T/blob/main/Programmation/Tests_Programmes/PRG.MAP_Programmes.pdf (page 3)\n",
    "\n",
    "<u>Remarque</u> : Des erreurs dans la méthode `getCouleur(self)`.\n"
   ]
  },
  {
   "cell_type": "code",
   "execution_count": 15,
   "id": "e8647a82",
   "metadata": {},
   "outputs": [
    {
     "name": "stdout",
     "output_type": "stream",
     "text": [
      "6 de coeur\n"
     ]
    }
   ],
   "source": [
    "class Carte:\n",
    "    \"\"\"Initialise Couleur (entre 1 à 4), et Valeur (entre 0 à 13)\"\"\"\n",
    "    def __init__(self, c, v):\n",
    "        # Détermine les valeurs autorisées (entre 1 et 13 d'après l'énoncé)\n",
    "        assert v >= 0 and v <= 13, \"Erreur de valeur\"\n",
    "        self.Couleur = c\n",
    "        self.Valeur = v\n",
    "\n",
    "    \"\"\"Renvoie le nom de la Carte As, 2, ... 10, \n",
    "       Valet, Dame, Roi\"\"\"\n",
    "    def getNom(self):\n",
    "        if ( self.Valeur > 1 and self.Valeur < 11):\n",
    "            return str( self.Valeur)\n",
    "        elif self.Valeur == 11:\n",
    "            return \"Valet\"\n",
    "        elif self.Valeur == 12:\n",
    "            return \"Dame\"\n",
    "        elif self.Valeur == 13:\n",
    "            return \"Roi\"\n",
    "        else:  # Valeur à zéro\n",
    "            return \"As\"\n",
    "\n",
    "    \"\"\"Renvoie la couleur de la Carte (parmi coeur, carreau, trefle et pique)\"\"\"\n",
    "    def getCouleur(self):\n",
    "        # Attention, erreur : les indices commencent à zéro d'où le '-1'\n",
    "        # Attention, erreur : cartes mal ordonnées\n",
    "        return [\"coeur\",\"carreau\",\"trèfle\",\"pique\"][self.Couleur-1]\n",
    "\n",
    "\n",
    "##################################################################################################################\n",
    "    \n",
    "class PaquetDeCarte:\n",
    "    def __init__(self):\n",
    "        self.contenu = []\n",
    "\n",
    "    \"\"\"Remplit le paquet de cartes\"\"\"\n",
    "    def remplir(self):\n",
    "        # Valeurs de 1 à 13 inclus\n",
    "        for i_val in range(1,14) :\n",
    "            # Couleurs entre 1 et 4 inclus\n",
    "            for i_coul in range(1,5) :\n",
    "                # Création de la carte\n",
    "                carte = Carte(i_coul,i_val)\n",
    "                \n",
    "                # Ajout dans le paquet de carte\n",
    "                self.contenu.append(carte)\n",
    "                \n",
    "\n",
    "    \"\"\"Renvoie la Carte qui se trouve à la position donnée\"\"\"\n",
    "    def getCarteAt(self, pos):\n",
    "        # Logique comme assertion :)\n",
    "        assert pos >= 0, \"l'indice doit être positif\"\n",
    "        # Renvoi de la carte à la position demandée. \n",
    "        return self.contenu[pos]\n",
    "    \n",
    "    \n",
    "\n",
    "# Jeu de tests\n",
    "unPaquet = PaquetDeCarte()\n",
    "unPaquet.remplir()\n",
    "uneCarte = unPaquet.getCarteAt(20)\n",
    "\n",
    "# Attendu : 6 de coeur\n",
    "print(uneCarte.getNom(), \"de\", uneCarte.getCouleur() )\n"
   ]
  }
 ],
 "metadata": {
  "kernelspec": {
   "display_name": "Python 3 (ipykernel)",
   "language": "python",
   "name": "python3"
  },
  "language_info": {
   "codemirror_mode": {
    "name": "ipython",
    "version": 3
   },
   "file_extension": ".py",
   "mimetype": "text/x-python",
   "name": "python",
   "nbconvert_exporter": "python",
   "pygments_lexer": "ipython3",
   "version": "3.9.7"
  }
 },
 "nbformat": 4,
 "nbformat_minor": 5
}
