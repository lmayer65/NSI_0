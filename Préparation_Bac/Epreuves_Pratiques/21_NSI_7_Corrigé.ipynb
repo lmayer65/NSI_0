{
 "cells": [
  {
   "cell_type": "markdown",
   "metadata": {},
   "source": [
    "## Corrigé type du sujet 7 (Epreuve pratique)\n",
    "<u>Auteur</u> : M.Mayer, lycée Saint-Jean, Limoges\n",
    "\n",
    "Le sujet est ici : https://github.com/lmayer65/NSI_T/blob/main/Pr%C3%A9paration_Bac/Epreuves_Pratiques/21_NSI_07.pdf"
   ]
  },
  {
   "cell_type": "markdown",
   "metadata": {},
   "source": [
    "### <u>Exercice 1</u> : Moyenne pondérée.\n",
    "<u>Remarque</u> : exercice typiquement de NSI 1ère, lien ici : https://github.com/lmayer65/NSI_T/blob/main/Programme_NSI_1/Algorithmes/AGR.Bases.Exercices.pdf\n"
   ]
  },
  {
   "cell_type": "code",
   "execution_count": null,
   "metadata": {},
   "outputs": [],
   "source": [
    "def moyenne(L) :\n",
    "    somme_notes = 0 # Somme des notes coefficientées\n",
    "    somme_coefs = 0 # Somme des coefficients\n",
    "    for note,coef in L : # Récupération directe de chaque tuple de la liste\n",
    "        somme_notes += note*coef\n",
    "        somme_coefs += coef\n",
    "        \n",
    "    return somme_notes/somme_coefs\n",
    "\n",
    "\n",
    "# Jeu de test\n",
    "print(moyenne([(15,2),(9,1),(12,3)]))  # Attendu : 12.5 et NON 11.83 (erreur d'énoncé)!!!"
   ]
  },
  {
   "cell_type": "markdown",
   "metadata": {},
   "source": [
    "### <u>Exercice 2</u> : Triangle de Pascal.\n",
    "<u>A noter</u> : ce triangle sert notamment à determiner les coefficients binomiaux\n",
    "Lien ici : https://www.youtube.com/watch?v=6JGrHD5nAoc"
   ]
  },
  {
   "cell_type": "code",
   "execution_count": null,
   "metadata": {},
   "outputs": [],
   "source": [
    "def pascal(n) :\n",
    "    C = [ [1] ] # Listes de listes représentant le triangle de Pascal\n",
    "    for k in range(1,n+1) : # Il faut s'arrêter au rang `n` inclus\n",
    "        Ck = [1]            # La première valeur de chaque sous-liste est `1`\n",
    "        for i in range(1,k) :\n",
    "            Ck.append(C[k-1][i-1] + C[k-1][i])  # Triangle de Pascal\n",
    "        Ck.append(1) # # La dernière valeur de chaque sous-liste est `1`\n",
    "        C.append(Ck)\n",
    "        \n",
    "    return C\n",
    "\n",
    "\n",
    "# Jeu de tests\n",
    "print(pascal(4))   # Attendu : [[1], [1, 1], [1, 2, 1], [1, 3, 3, 1], [1, 4, 6, 4, 1]]\n",
    "print(pascal(5))   # Attendu : [[1], [1, 1], [1, 2, 1], [1, 3, 3, 1], [1, 4, 6, 4, 1], [1, 5, 10, 10, 5, 1]]\n",
    "    "
   ]
  }
 ],
 "metadata": {
  "kernelspec": {
   "display_name": "Python 3",
   "language": "python",
   "name": "python3"
  },
  "language_info": {
   "codemirror_mode": {
    "name": "ipython",
    "version": 3
   },
   "file_extension": ".py",
   "mimetype": "text/x-python",
   "name": "python",
   "nbconvert_exporter": "python",
   "pygments_lexer": "ipython3",
   "version": "3.8.5"
  }
 },
 "nbformat": 4,
 "nbformat_minor": 4
}
