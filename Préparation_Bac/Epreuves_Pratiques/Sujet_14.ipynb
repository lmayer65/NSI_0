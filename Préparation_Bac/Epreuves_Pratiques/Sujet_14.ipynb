{
 "cells": [
  {
   "cell_type": "markdown",
   "id": "6bd30517",
   "metadata": {},
   "source": [
    "## Corrigé type du sujet 14 (Epreuve pratique)\n",
    "<u>Auteur</u> : M.Mayer, lycée Saint-Jean, Limoges\n",
    "\n",
    "Le sujet est ici : https://github.com/lmayer65/NSI_T/blob/main/Pr%C3%A9paration_Bac/Epreuves_Pratiques/22_NSI_01.pdf"
   ]
  },
  {
   "cell_type": "markdown",
   "id": "f4f74594",
   "metadata": {},
   "source": [
    "### <u>Exercice 1</u> : Nombre d'occurrences d'un caractère dans un mot\n",
    "Rien de compliqué ici :)"
   ]
  },
  {
   "cell_type": "code",
   "execution_count": null,
   "id": "a954532f",
   "metadata": {},
   "outputs": [],
   "source": [
    "def recherche(caractere, mot):\n",
    "    # Détermination d'un compteur.\n",
    "    compteur = 0\n",
    "    \n",
    "    # Le compteur `i`représente l'indice des tableaux `t_moy` et `annees`.\n",
    "    for car in mot :\n",
    "        # Si on trouve le caractère, on incrémente le compteur.\n",
    "        if car == caractere :\n",
    "            compteur += 1 \n",
    "            \n",
    "    return compteur\n",
    "\n",
    "\n",
    "# Jeu de tests\n",
    "print(recherche('e','sciences'))   # Attendu : 2\n",
    "print(recherche('i','mississipi'))   # Attendu : 4\n",
    "print(recherche('a','mississipi'))   # Attendu : 0"
   ]
  },
  {
   "cell_type": "markdown",
   "id": "32ce8327",
   "metadata": {},
   "source": [
    "### <u>Exercice 2</u> : Algorithme glouton et récursivité\n",
    "\n",
    "Le rendu de monnaie, étudié en Première mais sous forme récursive.\n",
    "\n",
    "<u>Remarque</u> : Il n'était pas nécessaire de mettre des arguments en option dans la fonction."
   ]
  },
  {
   "cell_type": "code",
   "execution_count": 4,
   "id": "e8647a82",
   "metadata": {},
   "outputs": [
    {
     "name": "stdout",
     "output_type": "stream",
     "text": [
      "[50, 10, 5, 2, 1]\n",
      "[100, 100, 50, 20, 20, 1]\n"
     ]
    }
   ],
   "source": [
    "# Erreur d'énoncé : Avec un 'p' minuscule.\n",
    "pieces = [100,50,20,10,5,2,1]\n",
    "\n",
    "def rendu_glouton(arendre, solution=[], i=0):\n",
    "    # Cas d'arrêt, renvoi de la solution\n",
    "    if arendre == 0:\n",
    "        return solution\n",
    "    \n",
    "    # Cas général\n",
    "    p = pieces[i]\n",
    "    \n",
    "    # Si on peut rendre la pièce.\n",
    "    if p <= arendre :\n",
    "        solution.append(p)\n",
    "        # On refait un tour avec la même pièce avec la monnaie restante à rendre.\n",
    "        return rendu_glouton(arendre - p, solution, i)\n",
    "    else :\n",
    "        # On essaie de rendre un pièce de plus petite valeur.\n",
    "        return rendu_glouton(arendre, solution, i+1)\n",
    "    \n",
    "\n",
    "# Jeu de tests\n",
    "# Erreur d'énoncé sur le nom de la fonction\n",
    "print(rendu_glouton(68,[],0))    # Attendu : [50, 10, 5, 2, 1]\n",
    "print(rendu_glouton(291,[],0))   # Attendu : [100, 100, 50, 20, 20, 1]  "
   ]
  }
 ],
 "metadata": {
  "kernelspec": {
   "display_name": "Python 3 (ipykernel)",
   "language": "python",
   "name": "python3"
  },
  "language_info": {
   "codemirror_mode": {
    "name": "ipython",
    "version": 3
   },
   "file_extension": ".py",
   "mimetype": "text/x-python",
   "name": "python",
   "nbconvert_exporter": "python",
   "pygments_lexer": "ipython3",
   "version": "3.9.7"
  }
 },
 "nbformat": 4,
 "nbformat_minor": 5
}
