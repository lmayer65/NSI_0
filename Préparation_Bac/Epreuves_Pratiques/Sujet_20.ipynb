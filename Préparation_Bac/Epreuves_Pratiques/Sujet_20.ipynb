{
 "cells": [
  {
   "cell_type": "markdown",
   "id": "6bd30517",
   "metadata": {},
   "source": [
    "## Corrigé type du sujet 20 (Epreuve pratique)\n",
    "<u>Auteur</u> : M.Mayer, lycée Saint-Jean, Limoges\n",
    "\n",
    "Le sujet est ici : https://github.com/lmayer65/NSI_T/blob/main/Pr%C3%A9paration_Bac/Epreuves_Pratiques/22_NSI_20.pdf"
   ]
  },
  {
   "cell_type": "markdown",
   "id": "f4f74594",
   "metadata": {},
   "source": [
    "### <u>Exercice 1</u> : XOR, le \"ou\" exclusif\n",
    "<u>Remarque</u> : l'opérateur logique ^ est le \"ou exclusif\" en Python."
   ]
  },
  {
   "cell_type": "code",
   "execution_count": null,
   "id": "a954532f",
   "metadata": {},
   "outputs": [],
   "source": [
    "# Version avec l'opérateur logique\n",
    "def xor(tab1, tab2):\n",
    "    # Les tableaux doivent avoir la même taille\n",
    "    assert len(tab1) == len(tab2), \"pas la même taille\"\n",
    "\n",
    "    resultat = []\n",
    "    \n",
    "    # Comparaison élément par élément\n",
    "    for compteur in range(len(tab1)):\n",
    "        resultat.append(tab1[compteur]^tab2[compteur])\n",
    "\n",
    "    return resultat\n",
    "\n",
    "\n",
    "# Version sans l'opérateur logique\n",
    "def xor_2(tab1, tab2):\n",
    "    # Les tableaux doivent avoir la même taille\n",
    "    assert len(tab1) == len(tab2), \"pas la même taille\"\n",
    "\n",
    "    resultat = []\n",
    "    \n",
    "    # Comparaison élément par élément\n",
    "    for compteur in range(len(tab1)):\n",
    "        # Est vrai (donc 1) si les les deux valeurs sont différentes, faux sinon (0)\n",
    "        resultat.append(tab1[compteur] != tab2[compteur])\n",
    "\n",
    "    return resultat\n",
    "    \n",
    "    \n",
    "# Jeu de tests\n",
    "a = [1, 0, 1, 0, 1, 1, 0, 1]\n",
    "b = [0, 1, 1, 1, 0, 1, 0, 0]\n",
    "c = [1, 1, 0, 1]\n",
    "d = [0, 0, 1, 1]\n",
    "\n",
    "assert(xor(a, b) == [1, 1, 0, 1, 1, 0, 0, 1])   # Attendu : rien ne se passe (test réussi)\n",
    "assert(xor(c, d) == [1, 1, 1, 0])               # Attendu : rien ne se passe (test réussi)\n",
    "\n",
    "assert(xor_2(a, b) == [1, 1, 0, 1, 1, 0, 0, 1]) # Attendu : rien ne se passe (test réussi)\n",
    "assert(xor_2(c, d) == [1, 1, 1, 0])             # Attendu : rien ne se passe (test réussi)"
   ]
  },
  {
   "cell_type": "markdown",
   "id": "69e0debc",
   "metadata": {},
   "source": [
    "### <u>Exercice 2</u> : Carrés magiques\n",
    "<u>Remarque</u> : bien lire les commentaires dans le programme !"
   ]
  },
  {
   "cell_type": "code",
   "execution_count": null,
   "id": "e8647a82",
   "metadata": {},
   "outputs": [],
   "source": [
    "class Carre:\n",
    "    def __init__(self, tableau = [[]]):\n",
    "        self.ordre = len(tableau)\n",
    "        self.valeurs = tableau\n",
    "\n",
    "    def affiche(self):\n",
    "        '''Affiche un carré'''\n",
    "        for i in range(self.ordre):\n",
    "            print(self.valeurs[i])\n",
    "\n",
    "    def somme_ligne(self, i):\n",
    "        '''Calcule la somme des valeurs de la ligne i'''\n",
    "        return sum(self.valeurs[i])\n",
    "\n",
    "    def somme_col(self, j):\n",
    "        '''Calcule la somme des valeurs de la colonne j'''\n",
    "        return sum([self.valeurs[i][j] for i in range(self.ordre)])\n",
    "\n",
    "def est_magique(carre):\n",
    "    n = carre.ordre\n",
    "    s = carre.somme_ligne(0)\n",
    "\n",
    "    #test de la somme de chaque ligne\n",
    "    for i in range(1, n):\n",
    "        if carre.somme_ligne(i) != s:\n",
    "            return False\n",
    "\n",
    "    #test de la somme de chaque colonne\n",
    "    for j in range(n):\n",
    "        if carre.somme_ligne(j) != s:\n",
    "            return False\n",
    "\n",
    "    #test de la somme de chaque diagonale\n",
    "    if sum([carre.valeurs[k][k] for k in range(n)]) != s:\n",
    "        return False\n",
    "    if sum([carre.valeurs[k][n-1-k] for k in range(n)]) != s:\n",
    "        return False\n",
    "    return s\n",
    "\n",
    "c1 = Carre([[1, 1],\n",
    "            [1, 1]])\n",
    "\n",
    "c2 = Carre([[2, 9, 4],\n",
    "            [7, 5, 3],\n",
    "            [6, 1, 8]])\n",
    "\n",
    "c3 = Carre([[4, 5, 16, 9],\n",
    "            [14, 7, 2, 11],\n",
    "            [3, 10, 15, 6],\n",
    "            [13, 12, 8, 1]])\n",
    "\n",
    "\n",
    "# Jeu de tests\n",
    "assert est_magique(c1) == 2        # Attendu : rien ne se passe (test réussi)\n",
    "assert est_magique(c2) == 15       # Attendu : rien ne se passe (test réussi)\n",
    "assert est_magique(c3) == False    # Attendu : rien ne se passe (test réussi)"
   ]
  }
 ],
 "metadata": {
  "kernelspec": {
   "display_name": "Python 3 (ipykernel)",
   "language": "python",
   "name": "python3"
  },
  "language_info": {
   "codemirror_mode": {
    "name": "ipython",
    "version": 3
   },
   "file_extension": ".py",
   "mimetype": "text/x-python",
   "name": "python",
   "nbconvert_exporter": "python",
   "pygments_lexer": "ipython3",
   "version": "3.9.7"
  }
 },
 "nbformat": 4,
 "nbformat_minor": 5
}
