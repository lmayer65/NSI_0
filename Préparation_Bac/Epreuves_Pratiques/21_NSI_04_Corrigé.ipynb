{
 "cells": [
  {
   "cell_type": "markdown",
   "metadata": {},
   "source": [
    "## Corrigé type du sujet 4 (Epreuve pratique)\n",
    "<u>Auteur</u> : M.Mayer, lycée Saint-Jean, Limoges\n",
    "\n",
    "Le sujet est ici : https://github.com/lmayer65/NSI_T/blob/main/Pr%C3%A9paration_Bac/Epreuves_Pratiques/21_NSI_04.pdf"
   ]
  },
  {
   "cell_type": "markdown",
   "metadata": {},
   "source": [
    "### <u>Exercice 1</u> : conversion d'un nombre binaire en nombre décimal.\n",
    "Les nombre entiers ont été étudiés en Première, voici le lien : https://github.com/lmayer65/NSI_T/blob/main/Programme_NSI_1/Repr%C3%A9sentation_Num%C3%A9rique_Donn%C3%A9es/Types.Base/RND.Nombres%20entiers.pdf (page 2).\n",
    "\n",
    "<u>Remarque</u> : il est plus aisé d'utiliser `for i in range(len(T))` plutôt que `for nb in T`car on a besoin des indices pour les puissances de deux."
   ]
  },
  {
   "cell_type": "code",
   "execution_count": null,
   "metadata": {},
   "outputs": [],
   "source": [
    "# On peut inverser la liste `T` en utilisant la méthode `reverse()`\n",
    "def convertir(T) :\n",
    "    # Inversion de la liste, attention, cette méthode ne renvoie pas l'objet !\n",
    "    T.reverse()\n",
    "    \n",
    "    # Parcours de la liste `T`\n",
    "    nb_decimal = 0\n",
    "    for i in range(len(T)) :\n",
    "        nb_decimal += T[i]*2**i  # L'indice `i` représente ici l'exposant.\n",
    "        \n",
    "    return nb_decimal\n",
    "\n",
    "# Jeu de tests\n",
    "print(convertir([1,0,1,0,0,1,1]))    # Attendu : 83\n",
    "print(convertir([1,0,0,0,0,0,1,0]))  # Attendu : 130"
   ]
  },
  {
   "cell_type": "code",
   "execution_count": null,
   "metadata": {},
   "outputs": [],
   "source": [
    "# Sans inverser la liste `T` cela est possible mais fastidieux\n",
    "def convertir(T) :\n",
    "    # Parcours de la liste `T`\n",
    "    nb_decimal = 0\n",
    "    for i in range(len(T)-1,-1,-1) : # L'indice `i` varie de `len(T)-1` à zéro, ce qui est attendu.\n",
    "        nb_decimal += T[i]*2**(len(T)-1-i)  # Attention à la représentation de l'exposant.\n",
    "        \n",
    "    return nb_decimal\n",
    "\n",
    "# Jeu de tests\n",
    "print(convertir([1,0,1,0,0,1,1]))    # Attendu : 83\n",
    "print(convertir([1,0,0,0,0,0,1,0]))  # Attendu : 130"
   ]
  },
  {
   "cell_type": "code",
   "execution_count": 8,
   "metadata": {},
   "outputs": [
    {
     "name": "stdout",
     "output_type": "stream",
     "text": [
      "[1, 1, 0, 0, 1, 0, 1]\n",
      "[0, 1, 0, 0, 0, 0, 0, 1]\n"
     ]
    }
   ],
   "source": [
    "# Une possibilité de script pour inverser une liste\n",
    "def inverser(T) :\n",
    "    for i in range(len(T)//2 + 1) : # On va jusqu'à la moitié de la liste \n",
    "        T[i],T[len(T)-1-i] = T[len(T)-1-i],T[i] # Echange de valeur entre début / fin de tableau\n",
    "        \n",
    "    return T\n",
    "\n",
    "# Jeu de tests\n",
    "print(inverser([1,0,1,0,0,1,1]))    # Attendu : [1,1,0,0,1,0,1]\n",
    "print(inverser([1,0,0,0,0,0,1,0]))  # Attendu : [0,1,0,0,0,0,0,1]"
   ]
  },
  {
   "cell_type": "markdown",
   "metadata": {},
   "source": [
    "### <u>Exercice 2</u> : un algorithme de tri par insertion.\n",
    "\n",
    "Il s'agit d'un algorithme vu en Première, voici le lien avec les informations nécessaires (script, complexité) : https://github.com/lmayer65/NSI_T/blob/main/Programme_NSI_1/Algorithmes/AGR.Tri.pdf (page 3 et 4).\n",
    "\n",
    "\n",
    "<u>Remarque</u> : les commentaires sont très clairs et aident beaucoup à la compréhension des instructions à compléter."
   ]
  },
  {
   "cell_type": "code",
   "execution_count": 7,
   "metadata": {},
   "outputs": [
    {
     "name": "stdout",
     "output_type": "stream",
     "text": [
      "[-1, 0, 2, 5, 7, 28]\n",
      "[0, 1, 2, 3, 4, 5, 6, 7, 8, 9, 10]\n"
     ]
    }
   ],
   "source": [
    "def tri_insertion(L) :\n",
    "    n = len(L)  # Nombre d'éléments de la liste L\n",
    "    \n",
    "    if n == 0 :  # Cas de la liste vide.\n",
    "        return L\n",
    "    \n",
    "    for j in range(1,n) :\n",
    "        e = L[j]  # On récupère la valeur en L[j].\n",
    "        \n",
    "        # A l'étape j, le sous-tableau L[0,j-1] est trié.\n",
    "        i = j  \n",
    "        \n",
    "        # On insère L[j] dans ce sous-tableau en déterminant\n",
    "        # le plus petit indice `i` tel que 0 <= i <= j et L[i-1] > L[j]. \n",
    "        # Cela permet de ne pas retrier ce qui est déjà partiellement trié : gain de temps\n",
    "        # par rapport à l'insertion par substitution.\n",
    "        while i > 0 and L[i-1] > e : # L[i-1] < `L[j]` ou L[i-1] < `e`.\n",
    "            i = i - 1  # L'indice `i` est décroissant \n",
    "        \n",
    "        # Si i != j, on décale le sous tableau L[i,j-1] d’un cran\n",
    "        # vers la droite et on place L[j] en position i.\n",
    "        # On peut remarquer que l'instruction `if i < j` fonctionne également.\n",
    "        if  i != j :\n",
    "            for k in range(j,i,-1) : \n",
    "                L[k] = L[k-1]  # Décalage à droite des éléments du tableau.\n",
    "                \n",
    "            L[i] = e # `e` conserve le L[j] du départ.\n",
    "            \n",
    "    return L\n",
    "    \n",
    "\n",
    "# Jeu de tests\n",
    "print(tri_insertion([2,5,-1,7,0,28]))          # Attendu : [-1, 0, 2, 5, 7, 28]\n",
    "print(tri_insertion([10,9,8,7,6,5,4,3,2,1,0])) # Attendu : [0, 1, 2, 3, 4, 5, 6, 7, 8, 9, 10] "
   ]
  }
 ],
 "metadata": {
  "kernelspec": {
   "display_name": "Python 3",
   "language": "python",
   "name": "python3"
  },
  "language_info": {
   "codemirror_mode": {
    "name": "ipython",
    "version": 3
   },
   "file_extension": ".py",
   "mimetype": "text/x-python",
   "name": "python",
   "nbconvert_exporter": "python",
   "pygments_lexer": "ipython3",
   "version": "3.8.5"
  }
 },
 "nbformat": 4,
 "nbformat_minor": 4
}
