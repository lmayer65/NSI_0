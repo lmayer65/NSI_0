{
 "cells": [
  {
   "cell_type": "markdown",
   "id": "6bd30517",
   "metadata": {},
   "source": [
    "## Corrigé type du sujet 17 (Epreuve pratique / Bac blanc)\n",
    "<u>Auteur</u> : M.Mayer, lycée Saint-Jean, Limoges\n",
    "\n",
    "Le sujet est ici : https://github.com/lmayer65/NSI_T/blob/main/Evaluation/Bac_Blanc_EP_S1.pdf"
   ]
  },
  {
   "cell_type": "markdown",
   "id": "f4f74594",
   "metadata": {},
   "source": [
    "### <u>Exercice 1</u> : Recherche d'un minimum\n",
    "<u>Remarque</u> : algorithme qui est très classique maintenant.\n"
   ]
  },
  {
   "cell_type": "code",
   "execution_count": null,
   "id": "a954532f",
   "metadata": {},
   "outputs": [],
   "source": [
    "# ERREUR  : la fonction s'appelle `indice_du_min()` d'après le jeu de tests.\n",
    "def indice_du_min(tab):\n",
    "    # Indice minimal et valeur minimale par défaut.\n",
    "    iMin = 0\n",
    "    vMin = tab[0]\n",
    "    \n",
    "    for i in range(len(tab)) :\n",
    "        # Si on trouve un nouveau minimum local.\n",
    "        if tab[i] < vMin :\n",
    "            vMin = tab[i]\n",
    "            iMin = i\n",
    "    \n",
    "    return iMin\n",
    "    \n",
    "\n",
    "# Jeu de tests\n",
    "print(indice_du_min([5]))       # Attendu : 0\n",
    "print(indice_du_min([2,4,1]))  # Attendu : 2\n",
    "print(indice_du_min([5,3,2,2,4]))   # Attendu : 2"
   ]
  },
  {
   "cell_type": "markdown",
   "id": "32ce8327",
   "metadata": {},
   "source": [
    "## <u>Exercice 2</u> : Séparation de `zéro` et `un` d'un tableau"
   ]
  },
  {
   "cell_type": "code",
   "execution_count": 14,
   "id": "e8647a82",
   "metadata": {},
   "outputs": [
    {
     "name": "stdout",
     "output_type": "stream",
     "text": [
      "[0, 0, 0, 0, 1, 1, 1, 1]\n",
      "[0, 0, 0, 0, 0, 0, 0, 1, 1, 1, 1, 1, 1, 1, 1, 1]\n"
     ]
    }
   ],
   "source": [
    "def separe(tab):\n",
    "    i = 0\n",
    "    j = len(tab) - 1  # Dernier élément du tableau\n",
    "    while i < j :\n",
    "        if tab[i] == 0 :\n",
    "            i = i + 1\n",
    "        else :\n",
    "            tab[i], tab[j] = tab[j], tab[i]\n",
    "            j = j - 1\n",
    "    return tab\n",
    "\n",
    "# Jeu de tests\n",
    "print(separe([1,0,1,0,1,0,1,0]))   # Attendu : [0,0,0,0,1,1,1,1]\n",
    "print(separe([1,0,0,0,1,1,0,1,1,0,1,0,1,1,1,0]))   # Attendu : [0, 0, 0, 0, 0, 0, 0, 1, 1, 1, 1, 1, 1, 1, 1]"
   ]
  }
 ],
 "metadata": {
  "kernelspec": {
   "display_name": "Python 3 (ipykernel)",
   "language": "python",
   "name": "python3"
  },
  "language_info": {
   "codemirror_mode": {
    "name": "ipython",
    "version": 3
   },
   "file_extension": ".py",
   "mimetype": "text/x-python",
   "name": "python",
   "nbconvert_exporter": "python",
   "pygments_lexer": "ipython3",
   "version": "3.9.7"
  }
 },
 "nbformat": 4,
 "nbformat_minor": 5
}
