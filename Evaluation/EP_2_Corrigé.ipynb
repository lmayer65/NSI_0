{
 "cells": [
  {
   "cell_type": "markdown",
   "metadata": {},
   "source": [
    "## Corrigé de l'épreuve pratique N°2\n",
    "<u>Auteur</u> : M.Mayer, lycée Saint-Jean, Limoges\n",
    "\n",
    "Le sujet est ici : "
   ]
  },
  {
   "cell_type": "markdown",
   "metadata": {},
   "source": [
    "### <u>Exercice 1</u> : recherche de maximum\n",
    "Un grand classique des algorithmes de base (vu en Première)"
   ]
  },
  {
   "cell_type": "code",
   "execution_count": null,
   "metadata": {},
   "outputs": [],
   "source": [
    "# Version classique qui parcourt la liste\n",
    "def maxi(tab) :\n",
    "    val_max = tab[0] # On prend la première valeur de la liste `tab` comme valeur témoin,\n",
    "    ind_max = 0       # ainsi que l'indice zéro.\n",
    "    for i in range(1,len(tab)) :\n",
    "        valeur = tab[i]\n",
    "        # Si `valeur` > val_max, elle devient la nouvelle `val_max`. De même pour l'indice.\n",
    "        if valeur > val_max :\n",
    "            val_max = valeur\n",
    "            ind_max = i\n",
    "            \n",
    "    return (val_max,ind_max)\n",
    "\n",
    "\n",
    "# Jeu de test\n",
    "print(maxi([1,5,6,9,1,2,3,7,9,8])) # Attendu : (9,3)"
   ]
  },
  {
   "cell_type": "code",
   "execution_count": null,
   "metadata": {},
   "outputs": [],
   "source": [
    "# Version \"Pythonesque\"\n",
    "def max(tab) :\n",
    "    val_max = max(tab) # On récupère la valeur maximale de la liste.\n",
    "    # On renvoie la valeur maximale et son indice dans la liste `tab`.\n",
    "    return (val_max,tab.index(val_max))\n",
    "\n",
    "\n",
    "# Jeu de test\n",
    "print(maxi([1,5,6,9,1,2,3,7,9,8])) # Attendu : (9,3)"
   ]
  },
  {
   "cell_type": "markdown",
   "metadata": {},
   "source": [
    "### <u>Exercice 2</u> : tri dans une pile\n",
    "\n",
    "<u>Remarques</u> : \n",
    "- L'instruction `T2 = T` conduirait à des <i><b>effets de bords</b></i> : les listes `T2` et `T` seraient modifiées en même temps, ce que l'on ne souhaite pas ici. La fonction `deepcopy()` le permet également (dans tous les cas même, y compris les matrices ce que ne permet pas l'instruction `list()`).\n",
    "- Il est nécessaire de dépiler `T3` pour obtenir une pile dans le même ordre !"
   ]
  },
  {
   "cell_type": "code",
   "execution_count": null,
   "metadata": {},
   "outputs": [],
   "source": [
    "def positif(T) :\n",
    "    T2 = list(T) # Voir les indications de l'énoncé\n",
    "    T3 = []\n",
    "    while T2 != [] : # Tant que la pile `T2` n'est pas vide.\n",
    "        x = T2.pop() # Voir les indications de l'énoncé.\n",
    "        if x >= 0 :  # Si l'élément est positif, on le récupère dans la liste `T3`\n",
    "            T3.append(x)        \n",
    "    T2 = []\n",
    "    # `T3` contenant les éléments mais dans le mauvais ordre, on le redépile et on place les\n",
    "    # éléments dans `T2` : l'ordre initial sera ainsi conservé.\n",
    "    while T3 != [] :\n",
    "        x = T3.pop()\n",
    "        T2.append(x)     \n",
    "    print('T =',T) # Vérifie que la la pile `T` n'a pas été affectée.\n",
    "    return T2\n",
    "\n",
    "\n",
    "# Jeu de test\n",
    "# Attendu : T = [-1,0,5,-3,4,-6,10,9,-8 ] et [0, 5, 4, 10, 9]\n",
    "print(positif([-1,0,5,-3,4,-6,10,9,-8 ]))      "
   ]
  }
 ],
 "metadata": {
  "kernelspec": {
   "display_name": "Python 3",
   "language": "python",
   "name": "python3"
  },
  "language_info": {
   "codemirror_mode": {
    "name": "ipython",
    "version": 3
   },
   "file_extension": ".py",
   "mimetype": "text/x-python",
   "name": "python",
   "nbconvert_exporter": "python",
   "pygments_lexer": "ipython3",
   "version": "3.8.5"
  }
 },
 "nbformat": 4,
 "nbformat_minor": 4
}
