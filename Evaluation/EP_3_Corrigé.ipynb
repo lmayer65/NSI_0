{
 "cells": [
  {
   "cell_type": "markdown",
   "metadata": {},
   "source": [
    "## Corrigé de l'épreuve pratique N°3\n",
    "<u>Auteur</u> : M.Mayer, lycée Saint-Jean, Limoges\n",
    "\n",
    "Le sujet est ici : https://github.com/lmayer65/NSI_T/blob/main/Evaluation/EP_3.pdf"
   ]
  },
  {
   "cell_type": "markdown",
   "metadata": {},
   "source": [
    "### <u>Exercice 1</u> : recherche des occurrences d'un élément\n",
    "Un grand classique des algorithmes de base (vu en Première) qui ne présente pas de difficultés."
   ]
  },
  {
   "cell_type": "code",
   "execution_count": null,
   "metadata": {},
   "outputs": [],
   "source": [
    "def recherche(elt,tab) :\n",
    "    occur_ind = [] # Liste des indices des occurences de la variable `elt`\n",
    "    for i in range(len(tab)) :\n",
    "        if tab[i] == elt :\n",
    "            occur_ind.append(i)\n",
    "            \n",
    "    return occur_ind\n",
    "\n",
    "# Jeu de tests\n",
    "print(recherche(3, [3, 2, 1, 3, 2, 1])) # Attendu : [0,3]\n",
    "print(recherche(4, [1, 2, 3]))          # Attendu : []"
   ]
  },
  {
   "cell_type": "markdown",
   "metadata": {},
   "source": [
    "<u>A noter</u> : les nombres du tableau doivent être entiers (les nombres réels ne sont pas représentés exactement pour la plupart)."
   ]
  },
  {
   "cell_type": "markdown",
   "metadata": {},
   "source": [
    "### <u>Exercice 2</u> : calcul de moyenne\n",
    "Il s'agit ici d'un parcours de dictionnaires de dictionnaires qui n'est pas sans rappeler les `fichiers .csv`."
   ]
  },
  {
   "cell_type": "code",
   "execution_count": null,
   "metadata": {},
   "outputs": [],
   "source": [
    "resultats = {'Dupont':{'DS1' : [15.5, 4],\n",
    "                       'DM1' : [14.5, 1],\n",
    "                       'DS2' : [13, 4],\n",
    "                       'PROJET1' : [16, 3],\n",
    "                       'DS3' : [14, 4]},\n",
    "             'Durand':{'DS1' : [6 , 4],\n",
    "                       'DM1' : [14.5, 1],\n",
    "                       'DS2' : [8, 4],\n",
    "                       'PROJET1' : [9, 3],\n",
    "                       'IE1' : [7, 2],\n",
    "                       'DS3' : [8, 4],\n",
    "                       'DS4' :[15, 4]}}\n",
    "\n",
    "\n",
    "def moyenne(nom):\n",
    "    if nom in resultats.keys() :\n",
    "        notes = resultats[nom]\n",
    "        total_points = 0  # Valeurs initiales\n",
    "        total_coefficients = 0\n",
    "        \n",
    "        # Parcours des valeurs du dictionnaire `notes`\n",
    "        for valeurs in notes.values() :\n",
    "            note , coefficient = valeurs # On récupère la liste [note,coefficient]\n",
    "            total_points = total_points + note * coefficient\n",
    "            total_coefficients = total_coefficients + coefficient\n",
    "        return round( total_points / total_coefficients , 1 ) # Calcul de la moyenne au dixième près\n",
    "    else:\n",
    "        return -1\n",
    "\n",
    "    \n",
    "# Jeu de tests\n",
    "print(moyenne('Dupont'))  # Attendu : 14.5\n",
    "print(moyenne('Durand'))  # Attendu : 9.2"
   ]
  }
 ],
 "metadata": {
  "kernelspec": {
   "display_name": "Python 3",
   "language": "python",
   "name": "python3"
  },
  "language_info": {
   "codemirror_mode": {
    "name": "ipython",
    "version": 3
   },
   "file_extension": ".py",
   "mimetype": "text/x-python",
   "name": "python",
   "nbconvert_exporter": "python",
   "pygments_lexer": "ipython3",
   "version": "3.8.5"
  }
 },
 "nbformat": 4,
 "nbformat_minor": 4
}
