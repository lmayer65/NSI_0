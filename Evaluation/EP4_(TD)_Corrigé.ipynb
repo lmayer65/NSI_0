{
 "cells": [
  {
   "cell_type": "markdown",
   "id": "6bd30517",
   "metadata": {},
   "source": [
    "## Corrigé de l'EP_4 (TD / Bac blanc)\n",
    "<u>Auteur</u> : M.Mayer, lycée Saint-Jean, Limoges\n",
    "\n",
    "Le sujet est ici : https://github.com/lmayer65/NSI_T/blob/main/Evaluation/EP_4(TD).pdf"
   ]
  },
  {
   "cell_type": "markdown",
   "id": "f4f74594",
   "metadata": {},
   "source": [
    "### <u>Exercice 1</u> : Recherche d'un maximum dans un dictionnaire\n",
    "<u>Remarque</u> : les dictionnaires doivent être maîtrisés. Lien ici :\n",
    "https://github.com/lmayer65/NSI_T/blob/main/Programme_NSI_1/Repr%C3%A9sentation_Num%C3%A9rique_Donn%C3%A9es/Types.Construits/RND.Types.Construits.pdf (à partir de la page 10)\n"
   ]
  },
  {
   "cell_type": "code",
   "execution_count": null,
   "id": "a954532f",
   "metadata": {},
   "outputs": [],
   "source": [
    "def max_dico(dico):\n",
    "    # Initialisation par défaut\n",
    "    cle_max = ''\n",
    "    val_max = 0  # Plus petite valeur possible\n",
    "    \n",
    "    # Récupération des couples (clé,valeur) du dictionnaire\n",
    "    for cle, valeur in dico.items():\n",
    "        # Cas où la nouvelle valeur est supérieure val_max\n",
    "        if valeur > val_max:\n",
    "            val_max = valeur\n",
    "            cle_max = cle\n",
    "    return (cle_max, val_max)\n",
    "\n",
    "\n",
    "# Une autre version possible\n",
    "def max_dico_2(dico):\n",
    "    cle_max = ''\n",
    "    val_max = 0\n",
    "    \n",
    "    # Parcours des clés du dictionnaire\n",
    "    for cle in dico:\n",
    "        if dico[cle] > val_max:\n",
    "            val_max = dico[cle]\n",
    "            cle_max = cle\n",
    "    return (cle_max, val_max)\n",
    "    \n",
    "\n",
    "# Jeu de tests\n",
    "print(max_dico({'Bob': 102, 'Ada': 201, 'Alice': 103, 'Tim': 50}))    # Attendu : ('Ada', 201)\n",
    "print(max_dico({'Alan': 222, 'Ada': 201, 'Eve': 220, 'Tim': 50}))     # Attendu : ('Alan', 222)\n",
    "\n",
    "print(max_dico_2({'Bob': 102, 'Ada': 201, 'Alice': 103, 'Tim': 50}))  # Attendu : ('Ada', 201)\n",
    "print(max_dico_2({'Alan': 222, 'Ada': 201, 'Eve': 220, 'Tim': 50}))   # Attendu : ('Alan', 222)"
   ]
  },
  {
   "cell_type": "markdown",
   "id": "32ce8327",
   "metadata": {},
   "source": [
    "## <u>Exercice 2</u> : Notation postfixe d'une expression algébrique"
   ]
  },
  {
   "cell_type": "code",
   "execution_count": null,
   "id": "e8647a82",
   "metadata": {},
   "outputs": [],
   "source": [
    "class Pile:\n",
    "    \"\"\"Classe définissant une structure de pile.\"\"\"\n",
    "    def __init__(self):\n",
    "        self.contenu = []\n",
    "\n",
    "    def est_vide(self):\n",
    "        \"\"\"Renvoie le booléen True si la pile est vide, False sinon.\"\"\"\n",
    "        return self.contenu == []\n",
    "\n",
    "    def empiler(self, v):\n",
    "        \"\"\"Place l'élément v au sommet de la pile\"\"\"\n",
    "        self.contenu.append(v)\n",
    "\n",
    "    def depiler(self):\n",
    "        \"\"\"\n",
    "        Retire et renvoie l’élément placé au sommet de la pile,\n",
    "        si la pile n’est pas vide.\n",
    "        \"\"\"\n",
    "        if not self.est_vide():\n",
    "            return self.contenu.pop()\n",
    "\n",
    "\n",
    "def eval_expression(tab):\n",
    "    p = Pile()\n",
    "    for element in tab: # Parcours de la variable `tab`\n",
    "        print(element)\n",
    "        if element != '+' and element != '*': # Ni addition, ni multiplication\n",
    "            p.empiler(element)\n",
    "        else:\n",
    "            if element == '+':  # Cas de l'addition\n",
    "                resultat = p.depiler() + p.depiler()\n",
    "            else:               # Sinon, c'est une multiplication\n",
    "                resultat = p.depiler() * p.depiler()\n",
    "            p.empiler(resultat)\n",
    "    return p.depiler() # `return resultat` fonctionne aussi\n",
    "\n",
    "# Jeu de tests\n",
    "print(eval_expression([2, 3, '+', 5, '*']))       # Attendu : 25"
   ]
  }
 ],
 "metadata": {
  "kernelspec": {
   "display_name": "Python 3 (ipykernel)",
   "language": "python",
   "name": "python3"
  },
  "language_info": {
   "codemirror_mode": {
    "name": "ipython",
    "version": 3
   },
   "file_extension": ".py",
   "mimetype": "text/x-python",
   "name": "python",
   "nbconvert_exporter": "python",
   "pygments_lexer": "ipython3",
   "version": "3.9.7"
  }
 },
 "nbformat": 4,
 "nbformat_minor": 5
}
