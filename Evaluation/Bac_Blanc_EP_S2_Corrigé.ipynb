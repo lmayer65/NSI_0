{
 "cells": [
  {
   "cell_type": "markdown",
   "id": "6bd30517",
   "metadata": {},
   "source": [
    "## Corrigé type du sujet 18 (Epreuve pratique / Bac blanc)\n",
    "<u>Auteur</u> : M.Mayer, lycée Saint-Jean, Limoges\n",
    "\n",
    "Le sujet est ici : https://github.com/lmayer65/NSI_T/blob/main/Evaluation/Bac_Blanc_EP_S2.pdf"
   ]
  },
  {
   "cell_type": "markdown",
   "id": "f4f74594",
   "metadata": {},
   "source": [
    "### <u>Exercice 1</u> : Recherche d'un élément\n",
    "<u>Remarque</u> : algorithme qui est très classique maintenant.\n"
   ]
  },
  {
   "cell_type": "code",
   "execution_count": null,
   "id": "a954532f",
   "metadata": {},
   "outputs": [],
   "source": [
    "def recherche(elt, tab):\n",
    "    for i in range(len(tab)):\n",
    "        # Si on trouve l'élément cherché, on renvoie son indice.\n",
    "        if tab[i] == elt:\n",
    "            return i \n",
    "        \n",
    "    # Si on ne trouve rien, on renvoie -1 par défaut\n",
    "    return -1 \n",
    "    \n",
    "\n",
    "# Jeu de tests\n",
    "print(recherche(1, [2, 3, 4]))       # Attendu : -1\n",
    "print(recherche(1, [10, 12, 1, 56])) # Attendu : 2\n",
    "print(recherche(50, [1, 50, 1]))     # Attendu : 1\n",
    "print(recherche(15, [8, 9, 10, 15])) # Attendu : 3"
   ]
  },
  {
   "cell_type": "markdown",
   "id": "32ce8327",
   "metadata": {},
   "source": [
    "## <u>Exercice 2</u> : Insertion d'un élément un tableau trié"
   ]
  },
  {
   "cell_type": "code",
   "execution_count": null,
   "id": "e8647a82",
   "metadata": {},
   "outputs": [],
   "source": [
    "def insere(a, tab):\n",
    "    l = list(tab) # l contient les mêmes éléments que tab.\n",
    "    l.append(a)\n",
    "    i = len(l) - 2 # Attention, il y a un indice `i+1` (boucle while).\n",
    "    \n",
    "    # Décalage de `a` jusqu'à la bonne place.\n",
    "    while a < l[i] and i >= 0: # Oubli du `and i >= 0`. Erreur ?\n",
    "        l[i+1] = l[i]\n",
    "        l[i] = a\n",
    "        i = i - 1\n",
    "    \n",
    "    return l\n",
    "\n",
    "# Jeu de tests\n",
    "print(insere(3,[1,2,4,5]))     # Attendu : [1, 2, 3, 4, 5]\n",
    "print(insere(10,[1,2,7,12,14,25]))  # Attendu : [1, 2, 7, 10, 12, 14, 25] \n",
    "print(insere(1,[2,3,4]))       # Attendu : [1, 2, 3, 4]"
   ]
  }
 ],
 "metadata": {
  "kernelspec": {
   "display_name": "Python 3 (ipykernel)",
   "language": "python",
   "name": "python3"
  },
  "language_info": {
   "codemirror_mode": {
    "name": "ipython",
    "version": 3
   },
   "file_extension": ".py",
   "mimetype": "text/x-python",
   "name": "python",
   "nbconvert_exporter": "python",
   "pygments_lexer": "ipython3",
   "version": "3.9.7"
  }
 },
 "nbformat": 4,
 "nbformat_minor": 5
}
