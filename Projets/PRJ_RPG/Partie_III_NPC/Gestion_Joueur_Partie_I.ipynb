{
 "cells": [
  {
   "cell_type": "markdown",
   "metadata": {},
   "source": [
    "# <u>Partie I</u> : Gestion du joueur (partie I)"
   ]
  },
  {
   "cell_type": "markdown",
   "metadata": {},
   "source": [
    "Le but de cette partie est de développer la partie \"joueur\" qui représente l'avatar du héros.\n",
    "\n",
    "Dans un premier temps, on se concentrera sur :\n",
    "- la conception d'une `classe Player`,\n",
    "- l'<b>affichage de l'avatar</b> ainsi que son <b>déplacement</u>,\n",
    "- l'<b>animation</b> de l'avatar.\n",
    "\n",
    "La gestion avec l'environnement (collisions) et les autres NPCs (monstres ...) viendront ultérieurement.\n",
    "\n",
    "\n",
    "<u><b>Pré-requis</b></u> :\n",
    "- <b>Monter</b> le fond d'écran sur Jupyter (on peut en prendre une autre), lien ici : https://github.com/lmayer65/NSI_T/blob/main/Projets/PRJ_RPG/Partie_III_NPC/Background.png\n",
    "- <b>Monter</b> les animations du gobelin -qui représente le joueur ici- sur Jupyter (on peut en prendre mais elle doit être complète !), lien ici : https://github.com/lmayer65/NSI_T/blob/main/Projets/PRJ_RPG/Partie_III_NPC/goblin.png\n",
    "\n"
   ]
  },
  {
   "cell_type": "code",
   "execution_count": null,
   "metadata": {},
   "outputs": [],
   "source": [
    "####### A EXECUTER EN DEBUT DE COURS (OU PLANTAGE) ######\n",
    "!pip install pygame"
   ]
  },
  {
   "cell_type": "markdown",
   "metadata": {},
   "source": [
    "## <u>Activité 1</u> : Création de la classe `Player`"
   ]
  },
  {
   "cell_type": "markdown",
   "metadata": {},
   "source": [
    "### <u>Etats du joueur</u>\n",
    "\n",
    "Le joueur doit être capable de se déplacer et de passer par différents <b>états</b> (<i>states</i> en anglais) qui représentent sa situation dans le jeu.\n",
    "\n",
    "Il peut être :\n",
    "- en mode `walk` : vers le haut, vers la gauche, vers le bas ou vers la droite.\n",
    "- en mode `attack`: vers le haut, vers la gauche, vers le bas ou vers la droite.\n",
    "- en mode `nothing`: le joueur ne fait rien de particulier.\n",
    "- en mode `death` : le joueur est mort (tué par un monstre par exemple).\n",
    "\n",
    "On va donc associer des <b>constantes</b> à chacun de ces états :"
   ]
  },
  {
   "cell_type": "code",
   "execution_count": 3,
   "metadata": {},
   "outputs": [],
   "source": [
    "######################### A exécuter #########################################\n",
    "import pygame\n",
    "\n",
    "# Taille de l'image du joueur (32x32 par défaut)\n",
    "PLAYER_SIZE = 32\n",
    "\n",
    "# Couleurs (pour la transparence)\n",
    "WHITE = (255,255,255)\n",
    "\n",
    "\n",
    "# Statut d'affichage du joueur\n",
    "NOTHING = 0\n",
    "DIE = 1\n",
    "WALK_R, WALK_L, WALK_U, WALK_D = 2, 3, 4, 5 # Marche vers la droite, gauche, haut, bas\n",
    "ATTACK_R, ATTACK_L, ATTACK_U, ATTACK_D = 10, 11, 12, 13 # Attaque vers la droite, gauche, haut, bas"
   ]
  },
  {
   "cell_type": "markdown",
   "metadata": {},
   "source": [
    "### <u>Image du joueur</u>\n",
    "\n",
    "Voici l'image du joueur : https://github.com/lmayer65/NSI_T/blob/main/Projets/PRJ_RPG/Partie_III_NPC/goblin.png\n",
    "\n",
    "On constate que cette image est composée d'une <b>série de mini-images</b>. Chacune d'entre elle a <b>une taille de 32 x 32</b>. Ces mini-images, passées rapidemment, donneront l'illusion d'une animation : cela sera étudié plus loin dans l'activité.\n",
    "\n",
    "<b>L'idée est d'afficher seulement la partie de l'image correspondant à l'état du joueur actuel</b> : \n",
    "- si le joueur vient tout juste de marcher vers le haut, ce qui est à afficher est aux coordonnées (0,0). La ligne correspond à l'animation du joueur marchant vers le haut.\n",
    "- la 5ième ligne correspond à l'animation du joueur attaquant vers la gauche.\n",
    "\n"
   ]
  },
  {
   "cell_type": "markdown",
   "metadata": {},
   "source": [
    "Voici les <b>attributs nécessaires</b> pour définir la classe `Player` :\n",
    "- un attribut `coords`pour les coordonnées du joueur sur la map.\n",
    "- un attribut `speed` indiquant la vitesse de déplacement du joueur.\n",
    "- un attribut `image` qui représente l'image à charger comprenant les animations du joueur.\n",
    "- un attribut `img_coords` qui relie <i>état du joueur</i> et <i>partie de l'image à afficher</i>.\n",
    "\n",
    "\n",
    "1/ <b>Compléter</b> les méthodes de la classe `Player` ci-dessous.\n",
    "\n",
    "<u>Remarques</u> :\n",
    "- Attention <b>aux effets de bords</b> dans la méthode `set_coords(self,cd)`. Etre astucieux et voir le lien ci-après (page 2) : https://github.com/lmayer65/NSI_T/blob/main/Algorithmique/Listes_Cha%C3%AEn%C3%A9es/ALG.Listes_Cha%C3%AEn%C3%A9es_Exercices.Corrig%C3%A9.pdf\n",
    "- <b>Choisir</b> des parties d'images représentatives de l'état de joueur pour éviter les confusions. On évitera par exemple les premières images des animations d'attaques qui sont les mêmes que celles du déplacement !\n"
   ]
  },
  {
   "cell_type": "code",
   "execution_count": null,
   "metadata": {},
   "outputs": [],
   "source": [
    "# Définition de la classe `Player`\n",
    "class Player(pygame.sprite.Sprite) :\n",
    "    \n",
    "    #### Ne pas changer ####\n",
    "    def __init__(self) :\n",
    "        super().__init__() # Bénéficie des méthodes de la classe `Sprite` (héritage)\n",
    "        \n",
    "        # Valeurs par défaut\n",
    "        self.screen = None # Pointeur vers la fenêtre d'affichage\n",
    "        self.coords = []  # Coordonnées du joueur\n",
    "        self.speed = 0    # Vitesse de déplacement du joueur\n",
    "        self.state = WALK_D # Etat du joueur par défaut (il fait face à l'écran)\n",
    "        self.image = None # Image représentant les différents états du joueur\n",
    "        self.img_coords = []  # Lie états du joueur et parties de l'image à afficher\n",
    "        \n",
    "        \n",
    "    ####################################################    \n",
    "    #############  Méthodes get / set  #################\n",
    "    ####################################################\n",
    "    \n",
    "    # Pointeur vers la fenêtre d'affichage\n",
    "    def set_screen(self,sc) :\n",
    "        ########## A COMPLETER ##############\n",
    "\n",
    "    \n",
    "    # Implémente les nouvelles coordonnées du joueur\n",
    "    def set_coords(self,cd) :\n",
    "        ########## A COMPLETER ##############\n",
    "       \n",
    "    \n",
    "        \n",
    "    # Implémente la vitesse du joueur\n",
    "    def set_speed(self,sp) :\n",
    "        ########## A COMPLETER ##############\n",
    "        \n",
    "        \n",
    "    # Implémente l'état du joueur    \n",
    "    def set_state(self,st) :\n",
    "        ########## A COMPLETER ##############\n",
    "        \n",
    "        \n",
    "    # Charge l'image ayant pour paramètres `filnam` comme nom de fichier et \n",
    "    # `col` comme couleur à rendre transparente.\n",
    "    def set_image(self,filnam,col) :\n",
    "        self.image = pygame.image.load(filnam) # Charge l'image\n",
    "        self.image.convert_alpha()  # Prend en compte les éventuelles transparences\n",
    "        self.image.set_colorkey(col)# Couleur à rendre transparente (blanc souvent)\n",
    "        \n",
    "    \n",
    "    # Associe un état du joueur aux coordonnées de la partie de l'image à afficher\n",
    "    def set_img_coords(self) :\n",
    "        ########## A COMPLETER ##############\n",
    "        \n",
    "    \n",
    "    \n",
    "    ###################################################################################\n",
    "    \n",
    "    \n",
    "    \n",
    "    # Déplace le joueur de `dx` en abscisse et de `dy`en ordonnée    \n",
    "    def move(self,dx,dy) :\n",
    "        ########## A COMPLETER ##############\n",
    "        \n",
    "        \n",
    "    # Dessine la partie de l'image représentant l'état du joueur    \n",
    "    def draw(self) :\n",
    "        ########## A COMPLETER ##############\n",
    "        # La variable `rect` est un n-uplet contenant : l'abscisse de la partie de l'image \n",
    "        # à afficher puis son ordonnée puis sa largeur et longueur.\n",
    "        rect = ...\n",
    "        self.screen.blit(self.image,self.coords,rect)     "
   ]
  },
  {
   "cell_type": "markdown",
   "metadata": {},
   "source": [
    "### <u>Mouvement du joueur</u>"
   ]
  },
  {
   "cell_type": "markdown",
   "metadata": {},
   "source": [
    "2/ <b>Rechercher</b> la gestion des événements via Pygame à l'aide de l'utilisation du clavier. <b>Implémenter</b> le <b>mouvement</b> du joueur dans un premier temps.\n",
    "\n",
    "On utilisera les touches suivantes :\n",
    "- la touche `a`pour se déplacer à gauche.\n",
    "- la touche `z`pour se déplacer vers le haut.\n",
    "- la touche `d`pour se déplacer à droite.\n",
    "- la touche `s`pour se déplacer vers le bas.\n",
    "\n",
    "\n",
    "### <u>Appeler</u> le professeur (si besoin)"
   ]
  },
  {
   "cell_type": "code",
   "execution_count": null,
   "metadata": {},
   "outputs": [],
   "source": [
    "pygame.init()\n",
    "\n",
    "pygame.key.set_repeat(10) # Autorise l'appui en continu de touches du clavier\n",
    "clock = pygame.time.Clock()\n",
    "\n",
    "\n",
    "######################################################################\n",
    "######################## A COMPLETER #################################\n",
    "######################################################################\n",
    "player = Player() # Crée une instance de la classe `Player`\n",
    "\n",
    "# Appeler les méthodes set_coords(), set_speed(), set_image(), set_img_coords()\n",
    "# Passer les arguments nécessaires !!\n",
    "\n",
    "\n",
    "\n",
    "\n",
    "######################################################################\n",
    "\n",
    "# Affichage de la fenêtre + sa résolution (et de son titre)\n",
    "pygame.display.set_caption(\"Déplacement du joueur\")\n",
    "screen = pygame.display.set_mode((640,480),pygame.SCALED)\n",
    "\n",
    "# Passe un pointeur vers la fenêtre d'affichage\n",
    "player.set_screen(screen)  \n",
    "\n",
    "# Charge le fond de l'écran (changer le nom du fichier si besoin !)\n",
    "background = pygame.image.load(\"Background.png\") \n",
    "\n",
    "\n",
    "# Fait tourner le jeu à l'infini \n",
    "running = True\n",
    "\n",
    "while running :\n",
    "    # Applique le fond d'écran\n",
    "    screen.blit(background,(0,0))\n",
    "\n",
    "    # Evénements\n",
    "    for event in pygame.event.get() :\n",
    "        if event.type == pygame.QUIT : # Clic sur la croix fermant la fenêtre\n",
    "            running = False  # Pour sortir de la boucle et quitter le jeu\n",
    "        \n",
    "        # Si on appuie sur une touche, on déplace le joueur\n",
    "        elif event.type == pygame.KEYDOWN : \n",
    "        ######################################################################\n",
    "        ######################## A COMPLETER #################################\n",
    "        ######################################################################    \n",
    "            \n",
    "    \n",
    "        ######################################################################\n",
    "        \n",
    "     # Dessin du joueur\n",
    "    player.draw()\n",
    "    \n",
    "    # Mise à jour de l'affichage à l'écran\n",
    "    pygame.display.flip()\n",
    "    \n",
    "    \n",
    "    # Limite le fps\n",
    "    clock.tick(30)/1000  \n",
    "    \n",
    "\n",
    "# Quitte le jeu\n",
    "pygame.quit()"
   ]
  },
  {
   "cell_type": "markdown",
   "metadata": {},
   "source": [
    "3/ <b>Implémenter</b> maintenant les états d'attaque du joueur qui se fait à l'aide de la touche `espace`. <b>On fera attention à l'orientation du joueur</b> !\n",
    "\n",
    "### <u>Appeler</u> le professeur (si besoin)"
   ]
  }
 ],
 "metadata": {
  "kernelspec": {
   "display_name": "Python 3",
   "language": "python",
   "name": "python3"
  },
  "language_info": {
   "codemirror_mode": {
    "name": "ipython",
    "version": 3
   },
   "file_extension": ".py",
   "mimetype": "text/x-python",
   "name": "python",
   "nbconvert_exporter": "python",
   "pygments_lexer": "ipython3",
   "version": "3.8.5"
  }
 },
 "nbformat": 4,
 "nbformat_minor": 4
}
