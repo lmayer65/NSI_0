{
 "cells": [
  {
   "cell_type": "code",
   "execution_count": null,
   "id": "3ec7f9b5",
   "metadata": {},
   "outputs": [],
   "source": [
    "######################## Epreuve pratique N°2 / 2024 ##########################\n",
    "\n",
    "# Exercice 1\n",
    "def correspond(mot, mot_a_trous):\n",
    "    if len(mot) != len(mot_a_trous) :\n",
    "        return False\n",
    "    for i in range(len(mot)):\n",
    "        if mot[i] != mot_a_trous[i] and mot_a_trous[i] != '*':\n",
    "            return False\n",
    "    return True\n",
    "\n",
    "\n",
    "assert correspond('INFORMATIQUE', 'INFO*MA*IQUE')\n",
    "assert not correspond('AUTOMATIQUE', 'INFO*MA*IQUE')\n",
    "assert not correspond('AUTOMATIQUE', 'AUTO*MA*IQU')\n",
    "assert not correspond('STOP', 'S*')\n",
    "assert correspond('AUTO', '*UT*')\n",
    "\n",
    "\n",
    "\n",
    "# Exercice 2\n",
    "def est_cyclique(plan):\n",
    "    '''\n",
    "    Prend en paramètre un dictionnaire `plan` correspondant à un plan d'envoi de messages (ici entre les personnes A, B, C, D, E, F).\n",
    "    Renvoie True si le plan d'envoi de messages est cyclique et False sinon.\n",
    "    '''\n",
    "    expediteur = 'A'\n",
    "    destinataire = plan[expediteur]\n",
    "    nb_destinaires = 1\n",
    "    \n",
    "    while destinataire != 'A':\n",
    "        destinataire = plan[ destinataire]\n",
    "        nb_destinaires += 1\n",
    "\n",
    "    return nb_destinaires == len(plan)\n"
   ]
  }
 ],
 "metadata": {
  "kernelspec": {
   "display_name": "Python 3 (ipykernel)",
   "language": "python",
   "name": "python3"
  },
  "language_info": {
   "codemirror_mode": {
    "name": "ipython",
    "version": 3
   },
   "file_extension": ".py",
   "mimetype": "text/x-python",
   "name": "python",
   "nbconvert_exporter": "python",
   "pygments_lexer": "ipython3",
   "version": "3.9.7"
  }
 },
 "nbformat": 4,
 "nbformat_minor": 5
}
